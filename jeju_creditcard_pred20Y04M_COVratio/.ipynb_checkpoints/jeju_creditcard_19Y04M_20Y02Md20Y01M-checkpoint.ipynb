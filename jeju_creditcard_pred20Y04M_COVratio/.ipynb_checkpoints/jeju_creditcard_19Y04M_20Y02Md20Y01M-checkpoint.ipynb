{
 "cells": [
  {
   "cell_type": "markdown",
   "metadata": {},
   "source": [
    "## Library import"
   ]
  },
  {
   "cell_type": "code",
   "execution_count": 1,
   "metadata": {},
   "outputs": [],
   "source": [
    "import pandas as pd\n",
    "import matplotlib.pyplot as plt\n",
    "import seaborn as sns\n",
    "import gc\n",
    "import numpy as np\n",
    "from matplotlib import font_manager, rc\n",
    "from tqdm import tqdm\n",
    "font_name = font_manager.FontProperties(fname=\"c:/Windows/Fonts/malgun.ttf\").get_name()\n",
    "rc('font', family=font_name)"
   ]
  },
  {
   "cell_type": "markdown",
   "metadata": {},
   "source": [
    "## Data load"
   ]
  },
  {
   "cell_type": "code",
   "execution_count": 2,
   "metadata": {},
   "outputs": [
    {
     "data": {
      "text/plain": [
       "7"
      ]
     },
     "execution_count": 2,
     "metadata": {},
     "output_type": "execute_result"
    }
   ],
   "source": [
    "data = pd.read_csv('C:/Users/user/Desktop/DACON/jeju_credit_card/201901-202003.csv')\n",
    "gc.collect()"
   ]
  },
  {
   "cell_type": "markdown",
   "metadata": {},
   "source": [
    "### Features\n",
    "\n",
    "'REG_YYMM' : 년월\n",
    "\n",
    "'CARD_SIDO_NM' : 카드 이용지역_시도(가맹정 기준)\n",
    "\n",
    "'CARD_CCG_NM' : '카드 이용지역_시군구(가맹점 기준)\n",
    "\n",
    "'STD_CLSS_NM' : 업종명\n",
    "\n",
    "'HOM_SIDO_NM' : 거주지역_시도(고객 집주소)\n",
    "\n",
    "'HOM_CCG_NM' : 거주지역_시군구(고객 집주소)\n",
    "\n",
    "'AGE' : 나이\n",
    "\n",
    "'SEX_CTGO_CD' : 성별(1: 남, 2: 여)\n",
    "\n",
    "'FLC' : 가구 생애 주기 가구생애주기 (1: 1인가구, 2: 영유아자녀가구, 3: 중고생자녀가구, 4: 성인자녀가구, 5: 노년가구)\n",
    "\n",
    "'CSTMR_CNT' : 이용고객수(명)\n",
    "\n",
    "'AMT' : 이용금액(원)\n",
    "\n",
    "'CNT' : 이용건수(건)\n",
    "\n",
    "row : \"특정\" 날짜, 업종, 고객의 지역, 연령, 성별로 구분되는 그룹. 이 그룹의 이용 고객 수, 이용금액, 이용건수 또한 features로 표현되어 있다.\n",
    "\n",
    "목적 : 주어지는 test 데이터(2020년 4월(Public), 2020년 7월(Private))를 특정 지역, 업종, 날짜(월)로 그룹화 하고, 해당그룹의 AMT(이용금액)을 예측하는 모델을 만드는 것."
   ]
  },
  {
   "cell_type": "code",
   "execution_count": 3,
   "metadata": {
    "scrolled": true
   },
   "outputs": [
    {
     "data": {
      "text/plain": [
       "Index(['REG_YYMM', 'CARD_SIDO_NM', 'CARD_CCG_NM', 'STD_CLSS_NM', 'HOM_SIDO_NM',\n",
       "       'HOM_CCG_NM', 'AGE', 'SEX_CTGO_CD', 'FLC', 'CSTMR_CNT', 'AMT', 'CNT'],\n",
       "      dtype='object')"
      ]
     },
     "execution_count": 3,
     "metadata": {},
     "output_type": "execute_result"
    }
   ],
   "source": [
    "data.columns"
   ]
  },
  {
   "cell_type": "markdown",
   "metadata": {},
   "source": [
    "# 예측 모형 만들기\n",
    "### 지역과 업종별로 새롭게 계산한 Cov 변수를 적용하여 예측하기\n",
    "1. group_city_clss_time, group_city_clss 만들기\n",
    "2. m1_m4_ratio, cov_ratio 계산하기\n",
    "\n",
    "\n",
    "\n",
    "1. 20년1월 * (19년4월 / 19년1월) => 예측_20년4월(non_cov)\n",
    "2. mean(20년2월/19년2월, 20년3월/19년3월) => 예측_con_ratio \n",
    "3. 예측_20년4월(non_cov) * 예측_con_ratio  => 예측_20년4월(cov)"
   ]
  },
  {
   "cell_type": "markdown",
   "metadata": {},
   "source": [
    "## 1. group_city_clss_time, group_city_clss 만들기\n",
    "\n",
    "* group_city_clss_time : (도시, 업종, 월별)을 기준으로 groupby\n",
    "* group_city_clss : (도시, 업종)을 기준으로 groupby"
   ]
  },
  {
   "cell_type": "markdown",
   "metadata": {},
   "source": [
    "### 1) group_city_clss_time"
   ]
  },
  {
   "cell_type": "code",
   "execution_count": 4,
   "metadata": {
    "scrolled": false
   },
   "outputs": [
    {
     "data": {
      "text/html": [
       "<div>\n",
       "<style scoped>\n",
       "    .dataframe tbody tr th:only-of-type {\n",
       "        vertical-align: middle;\n",
       "    }\n",
       "\n",
       "    .dataframe tbody tr th {\n",
       "        vertical-align: top;\n",
       "    }\n",
       "\n",
       "    .dataframe thead th {\n",
       "        text-align: right;\n",
       "    }\n",
       "</style>\n",
       "<table border=\"1\" class=\"dataframe\">\n",
       "  <thead>\n",
       "    <tr style=\"text-align: right;\">\n",
       "      <th></th>\n",
       "      <th></th>\n",
       "      <th></th>\n",
       "      <th>AMT</th>\n",
       "    </tr>\n",
       "    <tr>\n",
       "      <th>CARD_SIDO_NM</th>\n",
       "      <th>STD_CLSS_NM</th>\n",
       "      <th>REG_YYMM</th>\n",
       "      <th></th>\n",
       "    </tr>\n",
       "  </thead>\n",
       "  <tbody>\n",
       "    <tr>\n",
       "      <td rowspan=\"5\" valign=\"top\">강원</td>\n",
       "      <td rowspan=\"5\" valign=\"top\">건강보조식품 소매업</td>\n",
       "      <td>201901</td>\n",
       "      <td>18.815117</td>\n",
       "    </tr>\n",
       "    <tr>\n",
       "      <td>201902</td>\n",
       "      <td>18.804008</td>\n",
       "    </tr>\n",
       "    <tr>\n",
       "      <td>201903</td>\n",
       "      <td>18.510878</td>\n",
       "    </tr>\n",
       "    <tr>\n",
       "      <td>201904</td>\n",
       "      <td>18.484111</td>\n",
       "    </tr>\n",
       "    <tr>\n",
       "      <td>201905</td>\n",
       "      <td>18.813505</td>\n",
       "    </tr>\n",
       "    <tr>\n",
       "      <td>...</td>\n",
       "      <td>...</td>\n",
       "      <td>...</td>\n",
       "      <td>...</td>\n",
       "    </tr>\n",
       "    <tr>\n",
       "      <td rowspan=\"5\" valign=\"top\">충북</td>\n",
       "      <td rowspan=\"5\" valign=\"top\">휴양콘도 운영업</td>\n",
       "      <td>201911</td>\n",
       "      <td>18.636740</td>\n",
       "    </tr>\n",
       "    <tr>\n",
       "      <td>201912</td>\n",
       "      <td>18.754069</td>\n",
       "    </tr>\n",
       "    <tr>\n",
       "      <td>202001</td>\n",
       "      <td>19.218517</td>\n",
       "    </tr>\n",
       "    <tr>\n",
       "      <td>202002</td>\n",
       "      <td>17.667483</td>\n",
       "    </tr>\n",
       "    <tr>\n",
       "      <td>202003</td>\n",
       "      <td>16.359746</td>\n",
       "    </tr>\n",
       "  </tbody>\n",
       "</table>\n",
       "<p>9438 rows × 1 columns</p>\n",
       "</div>"
      ],
      "text/plain": [
       "                                         AMT\n",
       "CARD_SIDO_NM STD_CLSS_NM REG_YYMM           \n",
       "강원           건강보조식품 소매업  201901    18.815117\n",
       "                         201902    18.804008\n",
       "                         201903    18.510878\n",
       "                         201904    18.484111\n",
       "                         201905    18.813505\n",
       "...                                      ...\n",
       "충북           휴양콘도 운영업    201911    18.636740\n",
       "                         201912    18.754069\n",
       "                         202001    19.218517\n",
       "                         202002    17.667483\n",
       "                         202003    16.359746\n",
       "\n",
       "[9438 rows x 1 columns]"
      ]
     },
     "execution_count": 4,
     "metadata": {},
     "output_type": "execute_result"
    }
   ],
   "source": [
    "# 데이터를 날짜, 도시, 업종으로 groupby\n",
    "# 인덱싱을 편하게 하기 위해 row를 CARD_SIDO_NM,\tSTD_CLSS_NM, REG_YYMM 3개의 level로 표현\n",
    "\n",
    "group_city_clss_time = data.loc[:, ['REG_YYMM', 'CARD_SIDO_NM', 'STD_CLSS_NM', 'AMT']]\\\n",
    "                           .groupby(['CARD_SIDO_NM', 'STD_CLSS_NM', 'REG_YYMM'])['AMT']\\\n",
    "                           .sum()\n",
    "\n",
    "group_city_clss_time = pd.DataFrame(group_city_clss_time)\n",
    "gc.collect()\n",
    "# group_data는 'AMT'하나만 column으로 갖는다.\n",
    "group_city_clss_time = np.log(group_city_clss_time)\n",
    "group_city_clss_time"
   ]
  },
  {
   "cell_type": "markdown",
   "metadata": {},
   "source": [
    "### 2) group_city_clss"
   ]
  },
  {
   "cell_type": "code",
   "execution_count": null,
   "metadata": {
    "scrolled": false
   },
   "outputs": [],
   "source": [
    "#group_city_clss 만들기\n",
    "# CARD_SIDO_NM , STD_CLSS_NM으로만 groupby\n",
    "# REG_YYMM는 모두 통합\n",
    "group_city_clss = pd.DataFrame(data.loc[:, ['CARD_SIDO_NM',\n",
    "                          'STD_CLSS_NM',\n",
    "                          'AMT']].groupby(['CARD_SIDO_NM',\n",
    "                                          'STD_CLSS_NM'])['AMT'].sum())\n",
    "\n",
    "group_city_clss['AMT'] = np.log(group_city_clss['AMT'])\n",
    "group_city_clss = group_city_clss.reset_index() #index를 column에 포함시키기\n",
    "group_city_clss['m1_m4_ratio'] =  0\n",
    "group_city_clss['cov_ratio'] = 0\n",
    "group_city_clss"
   ]
  },
  {
   "cell_type": "code",
   "execution_count": null,
   "metadata": {},
   "outputs": [],
   "source": []
  },
  {
   "cell_type": "code",
   "execution_count": null,
   "metadata": {},
   "outputs": [],
   "source": []
  },
  {
   "cell_type": "markdown",
   "metadata": {},
   "source": [
    "## 2. m1_m4_ratio, cov_ratio 계산하기"
   ]
  },
  {
   "cell_type": "markdown",
   "metadata": {},
   "source": [
    "### 1) m1_m4_ratio, cov_ratio 계산하기"
   ]
  },
  {
   "cell_type": "code",
   "execution_count": null,
   "metadata": {
    "scrolled": false,
    "tags": []
   },
   "outputs": [],
   "source": [
    "# 지역, 업종별로 코로나 영향을 조사하는 함수\n",
    "citys = group_city_clss.CARD_SIDO_NM.unique()\n",
    "\n",
    "i = 0 # row의 index\n",
    "\n",
    "group_city_clss.iloc[i, 4] =  1# 19년 4월 데이터를 사용\n",
    "\n",
    "for city in tqdm(citys):\n",
    "    clsses = group_city_clss[group_city_clss.CARD_SIDO_NM == city].STD_CLSS_NM.unique()\n",
    "    for clss in clsses:                 \n",
    "        # m1_m4_ratio 구하기-----------------------------------------------------------------------------------\n",
    "        '''\n",
    "        ## 201901, 201904, 202001중 하나라도 없을 경우 m01_m04_ratio 계산이 무의미함\n",
    "        condition = (201901 not in group_city_clss_time.loc[city, clss].index) or \\\n",
    "                        (201904 not in group_city_clss_time.loc[city, clss].index) or \\\n",
    "                            (202001 not in group_city_clss_time.loc[city, clss].index)\n",
    "        if condition: # condition이 True일 때는 -1로 채우기\n",
    "            group_city_clss.iloc[i, 3] =  -1\n",
    "            \n",
    "        else: # 모든 데이터가 다 있을 때, m01_m04_ratio를 계산\n",
    "            m01_m04_ratio = group_city_clss_time.loc[city, clss, 201904].values \\\n",
    "                            / group_city_clss_time.loc[city, clss, 201901].values\n",
    "            group_city_clss.iloc[i, 3] =  m01_m04_ratio\n",
    "        '''\n",
    "        # cov_ratio 구하기-----------------------------------------------------------------------------------\n",
    "        ## 201902, 201903, 202002, 202003 중 하나라도 없을 경우 cov_ratio 계산이 무의미함\n",
    "        condition = (201902 not in group_city_clss_time.loc[city, clss].index) or \\\n",
    "                        (201903 not in group_city_clss_time.loc[city, clss].index) or \\\n",
    "                            (202002 not in group_city_clss_time.loc[city, clss].index) or \\\n",
    "                                (202003 not in group_city_clss_time.loc[city, clss].index) \n",
    "        if condition:\n",
    "            group_city_clss.iloc[i, 4] =  -1\n",
    "            \n",
    "        else:\n",
    "            ratio_m02 = group_city_clss_time.loc[city, clss, 202002].values \\\n",
    "                            / group_city_clss_time.loc[city, clss, 201902].values\n",
    "            ratio_m03 = group_city_clss_time.loc[city, clss, 202003].values \\\n",
    "                            / group_city_clss_time.loc[city, clss, 201903].values\n",
    "            group_city_clss.iloc[i, 4] =  #np.mean([ratio_m02, ratio_m03])\n",
    "        \n",
    "        # i는 1 증가-----------------------------------------------------------------------------------\n",
    "        i = i+1\n",
    "group_city_clss"
   ]
  },
  {
   "cell_type": "markdown",
   "metadata": {},
   "source": [
    "### 2) m1_m4_ratio, cov_ratio의 null 채우기"
   ]
  },
  {
   "cell_type": "code",
   "execution_count": null,
   "metadata": {},
   "outputs": [],
   "source": [
    "print('cov_ratio가 없는 경우',len(group_city_clss[(group_city_clss['cov_ratio'] == -1)]), '개 /  650 개')\n",
    "print('m1_m4_ratio가 없는 경우',len(group_city_clss[(group_city_clss['m1_m4_ratio'] == -1)]), '개 /  650 개')"
   ]
  },
  {
   "cell_type": "markdown",
   "metadata": {},
   "source": [
    "#### i. cov_ratio의 null 값 채우기"
   ]
  },
  {
   "cell_type": "code",
   "execution_count": null,
   "metadata": {
    "scrolled": false
   },
   "outputs": [],
   "source": [
    "group_city_clss[(group_city_clss['STD_CLSS_NM'] == '택시 운송업') ]\n",
    "## 택시 운송없의 경우 우선 데이터가 많지 않다.\n",
    "## 또한 지역별로 코로나 변수의 편차가 심하다 -> 어던 지역은 코로나의 영향을 덜 받고, 어떤 지역은 코로나의 영향을 많이 받는다.\n",
    "#  이 문제를 해결할 방법이 떠오르지 않으므로 그냥 동일 업종의 다른 지역 ratio를 평균해서 구함.\n",
    "\n",
    "# 이곳의 null값을 채우는 방법 -> 1안 코로나 변수가 존재하는 지역들의 평균\n",
    "                                # 2안 있는 데이터를 잘 조합하여 생성"
   ]
  },
  {
   "cell_type": "code",
   "execution_count": null,
   "metadata": {},
   "outputs": [],
   "source": [
    "none_clsses = group_city_clss[group_city_clss['cov_ratio'] == -1].STD_CLSS_NM.unique()\n",
    "\n",
    "for none_clss in none_clsses:\n",
    "    group_city_clss.loc[((group_city_clss.STD_CLSS_NM == none_clss) & (group_city_clss.cov_ratio == -1)),'cov_ratio']\\\n",
    "            = group_city_clss.loc[((group_city_clss.STD_CLSS_NM == none_clss) \\\n",
    "                & (group_city_clss.cov_ratio != -1)),'cov_ratio'].mean()"
   ]
  },
  {
   "cell_type": "code",
   "execution_count": null,
   "metadata": {},
   "outputs": [],
   "source": [
    "group_city_clss[group_city_clss['STD_CLSS_NM'] == '택시 운송업']"
   ]
  },
  {
   "cell_type": "code",
   "execution_count": null,
   "metadata": {
    "tags": []
   },
   "outputs": [],
   "source": [
    "print('cov_ratio가 없는 경우',len(group_city_clss[(group_city_clss['cov_ratio'] == -1)]), '개 /  650 개')\n",
    "## 모든 Null 값을 채웠다."
   ]
  },
  {
   "cell_type": "markdown",
   "metadata": {},
   "source": [
    "#### ii. m1_m4_ratio의 null 값 채우기"
   ]
  },
  {
   "cell_type": "code",
   "execution_count": null,
   "metadata": {},
   "outputs": [],
   "source": [
    "# 같은 방식으로 m1_m4_ratio의 Null 데이터로 채웠다.\n",
    "# 하지만 2020년 1월 데이터가 없을 경우 2020년 4월 데이터를 구 할 수 없다. 이 문제를 해결할 방법을 찾아야 한다.\n",
    "none_clsses = group_city_clss[group_city_clss['m1_m4_ratio'] == -1].STD_CLSS_NM.unique()\n",
    "for none_clss in none_clsses:\n",
    "    group_city_clss.loc[((group_city_clss.STD_CLSS_NM == none_clss) & (group_city_clss.m1_m4_ratio == -1)),'m1_m4_ratio']\\\n",
    "            = group_city_clss.loc[((group_city_clss.STD_CLSS_NM == none_clss) & (group_city_clss.m1_m4_ratio != -1)),'m1_m4_ratio'].mean()"
   ]
  },
  {
   "cell_type": "code",
   "execution_count": null,
   "metadata": {
    "tags": []
   },
   "outputs": [],
   "source": [
    "print('m1_m4_ratio가 없는 경우',len(group_city_clss[(group_city_clss['m1_m4_ratio'] == -1)]), '개 /  650 개')"
   ]
  },
  {
   "cell_type": "markdown",
   "metadata": {},
   "source": [
    "## 3.  non_cov 20년 4월 예측하기"
   ]
  },
  {
   "cell_type": "code",
   "execution_count": null,
   "metadata": {
    "tags": []
   },
   "outputs": [],
   "source": [
    "group_city_clss['COV_M04'] = 0\n",
    "\n",
    "for i in tqdm(range(len(group_city_clss))):\n",
    "        city = group_city_clss.iloc[i,0]\n",
    "        clss = group_city_clss.iloc[i,1]\n",
    "\n",
    "\n",
    "        no_201904 = (201904 not in group_city_clss_time.loc[city, clss].index)\n",
    "        if no_201904:\n",
    "            group_city_clss.iloc[i,-1] = group_city_clss_time.loc[city, clss].values.mean()\n",
    "        else:\n",
    "            group_city_clss.iloc[i,-1] = group_city_clss_time.loc[city, clss, 201904].values\\\n",
    "                                      * group_city_clss.iloc[i,4]\n",
    "\n",
    "group_city_clss"
   ]
  },
  {
   "cell_type": "markdown",
   "metadata": {},
   "source": [
    "## 4. COV_M04를 submission에 채워넣기"
   ]
  },
  {
   "cell_type": "code",
   "execution_count": 35,
   "metadata": {},
   "outputs": [
    {
     "data": {
      "text/html": [
       "<div>\n",
       "<style scoped>\n",
       "    .dataframe tbody tr th:only-of-type {\n",
       "        vertical-align: middle;\n",
       "    }\n",
       "\n",
       "    .dataframe tbody tr th {\n",
       "        vertical-align: top;\n",
       "    }\n",
       "\n",
       "    .dataframe thead th {\n",
       "        text-align: right;\n",
       "    }\n",
       "</style>\n",
       "<table border=\"1\" class=\"dataframe\">\n",
       "  <thead>\n",
       "    <tr style=\"text-align: right;\">\n",
       "      <th></th>\n",
       "      <th>REG_YYMM</th>\n",
       "      <th>CARD_SIDO_NM</th>\n",
       "      <th>STD_CLSS_NM</th>\n",
       "      <th>AMT</th>\n",
       "      <th>COV_M04</th>\n",
       "    </tr>\n",
       "  </thead>\n",
       "  <tbody>\n",
       "    <tr>\n",
       "      <td>0</td>\n",
       "      <td>202004</td>\n",
       "      <td>강원</td>\n",
       "      <td>건강보조식품 소매업</td>\n",
       "      <td>0</td>\n",
       "      <td>7.249106e+07</td>\n",
       "    </tr>\n",
       "    <tr>\n",
       "      <td>1</td>\n",
       "      <td>202004</td>\n",
       "      <td>강원</td>\n",
       "      <td>골프장 운영업</td>\n",
       "      <td>0</td>\n",
       "      <td>3.718332e+09</td>\n",
       "    </tr>\n",
       "    <tr>\n",
       "      <td>2</td>\n",
       "      <td>202004</td>\n",
       "      <td>강원</td>\n",
       "      <td>과실 및 채소 소매업</td>\n",
       "      <td>0</td>\n",
       "      <td>7.520391e+08</td>\n",
       "    </tr>\n",
       "    <tr>\n",
       "      <td>3</td>\n",
       "      <td>202004</td>\n",
       "      <td>강원</td>\n",
       "      <td>관광 민예품 및 선물용품 소매업</td>\n",
       "      <td>0</td>\n",
       "      <td>1.113679e+07</td>\n",
       "    </tr>\n",
       "    <tr>\n",
       "      <td>4</td>\n",
       "      <td>202004</td>\n",
       "      <td>강원</td>\n",
       "      <td>그외 기타 분류안된 오락관련 서비스업</td>\n",
       "      <td>0</td>\n",
       "      <td>1.770000e+05</td>\n",
       "    </tr>\n",
       "    <tr>\n",
       "      <td>...</td>\n",
       "      <td>...</td>\n",
       "      <td>...</td>\n",
       "      <td>...</td>\n",
       "      <td>...</td>\n",
       "      <td>...</td>\n",
       "    </tr>\n",
       "    <tr>\n",
       "      <td>1389</td>\n",
       "      <td>202007</td>\n",
       "      <td>충북</td>\n",
       "      <td>피자 햄버거 샌드위치 및 유사 음식점업</td>\n",
       "      <td>0</td>\n",
       "      <td>1.298792e+09</td>\n",
       "    </tr>\n",
       "    <tr>\n",
       "      <td>1390</td>\n",
       "      <td>202007</td>\n",
       "      <td>충북</td>\n",
       "      <td>한식 음식점업</td>\n",
       "      <td>0</td>\n",
       "      <td>1.753081e+10</td>\n",
       "    </tr>\n",
       "    <tr>\n",
       "      <td>1391</td>\n",
       "      <td>202007</td>\n",
       "      <td>충북</td>\n",
       "      <td>호텔업</td>\n",
       "      <td>0</td>\n",
       "      <td>1.521936e+07</td>\n",
       "    </tr>\n",
       "    <tr>\n",
       "      <td>1392</td>\n",
       "      <td>202007</td>\n",
       "      <td>충북</td>\n",
       "      <td>화장품 및 방향제 소매업</td>\n",
       "      <td>0</td>\n",
       "      <td>4.582572e+08</td>\n",
       "    </tr>\n",
       "    <tr>\n",
       "      <td>1393</td>\n",
       "      <td>202007</td>\n",
       "      <td>충북</td>\n",
       "      <td>휴양콘도 운영업</td>\n",
       "      <td>0</td>\n",
       "      <td>1.905992e+07</td>\n",
       "    </tr>\n",
       "  </tbody>\n",
       "</table>\n",
       "<p>1394 rows × 5 columns</p>\n",
       "</div>"
      ],
      "text/plain": [
       "      REG_YYMM CARD_SIDO_NM            STD_CLSS_NM  AMT       COV_M04\n",
       "0       202004           강원             건강보조식품 소매업    0  7.249106e+07\n",
       "1       202004           강원                골프장 운영업    0  3.718332e+09\n",
       "2       202004           강원            과실 및 채소 소매업    0  7.520391e+08\n",
       "3       202004           강원      관광 민예품 및 선물용품 소매업    0  1.113679e+07\n",
       "4       202004           강원   그외 기타 분류안된 오락관련 서비스업    0  1.770000e+05\n",
       "...        ...          ...                    ...  ...           ...\n",
       "1389    202007           충북  피자 햄버거 샌드위치 및 유사 음식점업    0  1.298792e+09\n",
       "1390    202007           충북                한식 음식점업    0  1.753081e+10\n",
       "1391    202007           충북                    호텔업    0  1.521936e+07\n",
       "1392    202007           충북          화장품 및 방향제 소매업    0  4.582572e+08\n",
       "1393    202007           충북               휴양콘도 운영업    0  1.905992e+07\n",
       "\n",
       "[1394 rows x 5 columns]"
      ]
     },
     "execution_count": 35,
     "metadata": {},
     "output_type": "execute_result"
    }
   ],
   "source": [
    "group_city_clss['COV_M04'] = np.exp(group_city_clss['COV_M04']) # 로그 스케일을 다시 복원\n",
    "\n",
    "submission_layout = pd.read_csv('C:/Users/user/Desktop/DACON/jeju_credit_card/submission.csv', index_col=0)\n",
    "submission_layout = submission_layout.merge(group_city_clss.loc[:,['CARD_SIDO_NM', 'STD_CLSS_NM', 'COV_M04']],\n",
    "                              left_on=['CARD_SIDO_NM', 'STD_CLSS_NM'],\n",
    "                              right_on=['CARD_SIDO_NM', 'STD_CLSS_NM'],\n",
    "                              how='left')\n",
    "submission_layout = submission_layout.fillna(0)\n",
    "\n",
    "submission_layout"
   ]
  },
  {
   "cell_type": "code",
   "execution_count": 37,
   "metadata": {},
   "outputs": [
    {
     "data": {
      "text/html": [
       "<div>\n",
       "<style scoped>\n",
       "    .dataframe tbody tr th:only-of-type {\n",
       "        vertical-align: middle;\n",
       "    }\n",
       "\n",
       "    .dataframe tbody tr th {\n",
       "        vertical-align: top;\n",
       "    }\n",
       "\n",
       "    .dataframe thead th {\n",
       "        text-align: right;\n",
       "    }\n",
       "</style>\n",
       "<table border=\"1\" class=\"dataframe\">\n",
       "  <thead>\n",
       "    <tr style=\"text-align: right;\">\n",
       "      <th></th>\n",
       "      <th>REG_YYMM</th>\n",
       "      <th>CARD_SIDO_NM</th>\n",
       "      <th>STD_CLSS_NM</th>\n",
       "      <th>AMT</th>\n",
       "    </tr>\n",
       "    <tr>\n",
       "      <th>id</th>\n",
       "      <th></th>\n",
       "      <th></th>\n",
       "      <th></th>\n",
       "      <th></th>\n",
       "    </tr>\n",
       "  </thead>\n",
       "  <tbody>\n",
       "    <tr>\n",
       "      <td>0</td>\n",
       "      <td>202004</td>\n",
       "      <td>강원</td>\n",
       "      <td>건강보조식품 소매업</td>\n",
       "      <td>7.249106e+07</td>\n",
       "    </tr>\n",
       "    <tr>\n",
       "      <td>1</td>\n",
       "      <td>202004</td>\n",
       "      <td>강원</td>\n",
       "      <td>골프장 운영업</td>\n",
       "      <td>3.718332e+09</td>\n",
       "    </tr>\n",
       "    <tr>\n",
       "      <td>2</td>\n",
       "      <td>202004</td>\n",
       "      <td>강원</td>\n",
       "      <td>과실 및 채소 소매업</td>\n",
       "      <td>7.520391e+08</td>\n",
       "    </tr>\n",
       "    <tr>\n",
       "      <td>3</td>\n",
       "      <td>202004</td>\n",
       "      <td>강원</td>\n",
       "      <td>관광 민예품 및 선물용품 소매업</td>\n",
       "      <td>1.113679e+07</td>\n",
       "    </tr>\n",
       "    <tr>\n",
       "      <td>4</td>\n",
       "      <td>202004</td>\n",
       "      <td>강원</td>\n",
       "      <td>그외 기타 분류안된 오락관련 서비스업</td>\n",
       "      <td>1.770000e+05</td>\n",
       "    </tr>\n",
       "  </tbody>\n",
       "</table>\n",
       "</div>"
      ],
      "text/plain": [
       "    REG_YYMM CARD_SIDO_NM           STD_CLSS_NM           AMT\n",
       "id                                                           \n",
       "0     202004           강원            건강보조식품 소매업  7.249106e+07\n",
       "1     202004           강원               골프장 운영업  3.718332e+09\n",
       "2     202004           강원           과실 및 채소 소매업  7.520391e+08\n",
       "3     202004           강원     관광 민예품 및 선물용품 소매업  1.113679e+07\n",
       "4     202004           강원  그외 기타 분류안된 오락관련 서비스업  1.770000e+05"
      ]
     },
     "execution_count": 37,
     "metadata": {},
     "output_type": "execute_result"
    }
   ],
   "source": [
    "submit_path = 'C:/Users/user/Desktop/DACON/jeju_credit_card/submission.csv'\n",
    "\n",
    "submission_layout = pd.read_csv(submit_path, index_col=0)\n",
    "submission_layout = submission_layout.loc[submission_layout['REG_YYMM']==202004,:]\n",
    "submission_layout = submission_layout.merge(group_city_clss.loc[:,['CARD_SIDO_NM', 'STD_CLSS_NM', 'COV_M04']],\n",
    "                              left_on=['CARD_SIDO_NM', 'STD_CLSS_NM'],\n",
    "                              right_on=['CARD_SIDO_NM', 'STD_CLSS_NM'],\n",
    "                              how='left')\n",
    "submission_layout = submission_layout.fillna(0)\n",
    "\n",
    "\n",
    "AMT = list(submission_layout['COV_M04'])*2\n",
    "del submission_layout\n",
    "gc.collect()\n",
    "\n",
    "submission = pd.read_csv(submit_path, index_col=0)\n",
    "submission.AMT = AMT\n",
    "submission.to_csv('C:/Users/user/Desktop/DACON/jeju_credit_card/1904_log_submission.csv', encoding='utf-8-sig')\n",
    "submission.head()"
   ]
  }
 ],
 "metadata": {
  "kernelspec": {
   "display_name": "Python 3",
   "language": "python",
   "name": "python3"
  },
  "language_info": {
   "codemirror_mode": {
    "name": "ipython",
    "version": 3
   },
   "file_extension": ".py",
   "mimetype": "text/x-python",
   "name": "python",
   "nbconvert_exporter": "python",
   "pygments_lexer": "ipython3",
   "version": "3.7.4"
  }
 },
 "nbformat": 4,
 "nbformat_minor": 2
}
