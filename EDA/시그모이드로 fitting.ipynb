{
 "cells": [
  {
   "cell_type": "code",
   "execution_count": 31,
   "metadata": {},
   "outputs": [],
   "source": [
    "import numpy as np\n",
    "import matplotlib.pyplot as plt"
   ]
  },
  {
   "cell_type": "code",
   "execution_count": 353,
   "metadata": {},
   "outputs": [],
   "source": [
    "def sigmoid(x):\n",
    "    return 1 / (1 + np.exp(-x))\n",
    "\n",
    "def damp_fuction(x, weight, avg):\n",
    "    param_1, param_2, param_3, param_4, param_5, param_6, param_7 = weight\n",
    "    y = sigmoid(x*param_1+ param_2)*abs(param_3) + param_7\n",
    "    y2 = (1-sigmoid(x*param_4+ param_5))*abs(param_6) + param_7\n",
    "    return y + y2\n",
    "\n",
    "def get_loss(x,y, param_1, param_2, param_3,\n",
    "             param_4, param_5, param_6, param_7, avg):\n",
    "    pred_y = []\n",
    "    weight = [param_1, param_2, param_3,\n",
    "              param_4, param_5, param_6,param_7]\n",
    "    for x_ in x:\n",
    "        pred_y.append(damp_fuction(x_,weight, avg))\n",
    "    loss = np.sqrt(np.sum((pred_y - y)**2))\n",
    "    return loss\n",
    "\n",
    "def get_gradient(x, y, param_1, param_2, param_3,\n",
    "                 param_4, param_5, param_6, param_7, avg,\n",
    "                 delta = 0.000001):\n",
    "    \n",
    "    grad_1 = (get_loss(x,y, param_1, param_2, param_3,\n",
    "                       param_4, param_5, param_6, param_7, avg) - \\\n",
    "                get_loss(x,y, param_1+delta, param_2, param_3,\n",
    "                         param_4, param_5, param_6, param_7, avg))\\\n",
    "                / delta\n",
    "    grad_2 = (get_loss(x,y, param_1, param_2, param_3,\n",
    "                       param_4, param_5, param_6, param_7, avg) - \\\n",
    "                get_loss(x,y, param_1, param_2+delta, param_3,\n",
    "                         param_4, param_5, param_6, param_7, avg)) \\\n",
    "                / delta\n",
    "    grad_3 = (get_loss(x,y, param_1, param_2, param_3,\n",
    "                       param_4, param_5, param_6, param_7, avg) - \\\n",
    "                get_loss(x,y, param_1, param_2, param_3+delta,\n",
    "                         param_4, param_5, param_6, param_7, avg)) \\\n",
    "                / delta\n",
    "    grad_4 = (get_loss(x,y, param_1, param_2, param_3,\n",
    "                       param_4, param_5, param_6, param_7, avg) - \\\n",
    "                get_loss(x,y, param_1, param_2, param_3,\n",
    "                         param_4+delta, param_5, param_6, param_7, avg)) \\\n",
    "                / delta\n",
    "    grad_5 = (get_loss(x,y, param_1, param_2, param_3,\n",
    "                       param_4, param_5, param_6, param_7, avg) - \\\n",
    "                get_loss(x,y, param_1, param_2, param_3,\n",
    "                         param_4, param_5+delta, param_6, param_7, avg)) \\\n",
    "                / delta    \n",
    "    grad_6 = (get_loss(x,y, param_1, param_2, param_3,\n",
    "                       param_4, param_5, param_6, param_7, avg) - \\\n",
    "                get_loss(x,y, param_1, param_2, param_3,\n",
    "                         param_4, param_5, param_6+delta, param_7, avg)) \\\n",
    "                / delta  \n",
    "    grad_7 = (get_loss(x,y, param_1, param_2, param_3,\n",
    "                       param_4, param_5, param_6, param_7, avg) - \\\n",
    "                get_loss(x,y, param_1, param_2, param_3,\n",
    "                         param_4, param_5, param_6, param_7+delta, avg)) \\\n",
    "                / delta \n",
    "    \n",
    "    return grad_1, grad_2, grad_3, grad_4, grad_5, grad_6, grad_7\n",
    "\n",
    "def update_weight(weight, grad, lr = 0.0001):\n",
    "    param_1, param_2, param_3, param_4, param_5, param_6, param_7 = weight\n",
    "    grad_1, grad_2, grad_3, grad_4, grad_5, grad_6, grad_7 = grad\n",
    "    param_1 = param_1 + grad_1 * lr\n",
    "    param_2 = param_2 + grad_2 * lr\n",
    "    param_3 = param_3 + grad_3 * lr\n",
    "    param_4 = param_4 + grad_4 * lr\n",
    "    param_5 = param_5 + grad_5 * lr\n",
    "    param_6 = param_6 + grad_6 * lr\n",
    "    param_7 = param_7 + grad_7 * lr\n",
    "    \n",
    "    return  param_1, param_2, param_3, param_4, param_5, param_6, param_7"
   ]
  },
  {
   "cell_type": "code",
   "execution_count": 367,
   "metadata": {},
   "outputs": [
    {
     "name": "stdout",
     "output_type": "stream",
     "text": [
      "[-2 -1  0  1]\n",
      "[22 20 18 19]\n"
     ]
    }
   ],
   "source": [
    "x = np.array([-2,-1,0,1])\n",
    "#y = np.array(np.log(group_1_x.iloc[0]))\n",
    "y = np.array([22, 20, 18, 19])\n",
    "print(x)\n",
    "print(y)"
   ]
  },
  {
   "cell_type": "code",
   "execution_count": 368,
   "metadata": {},
   "outputs": [
    {
     "data": {
      "text/plain": [
       "(4.977812693929824,\n",
       " -2.0130927752455277,\n",
       " 1.2742242631821314,\n",
       " 4.287256782426694,\n",
       " 4.203083033705308,\n",
       " 4.267252147819532,\n",
       " 8.933881887526852)"
      ]
     },
     "execution_count": 368,
     "metadata": {},
     "output_type": "execute_result"
    }
   ],
   "source": [
    "avg = y[0]\n",
    "weight = [5, -1, 2, 2, 5, 2, avg/2]\n",
    "grad = [0,0,0,0]\n",
    "for i in range(1000):\n",
    "    param_1, param_2, param_3, param_4, param_5, param_6, param_7 = weight\n",
    "    grad = get_gradient(x, y, param_1, param_2, param_3,\n",
    "                        param_4, param_5, param_6, param_7, avg = avg)\n",
    "    weight = update_weight(weight, grad, lr = 0.1)\n",
    "weight"
   ]
  },
  {
   "cell_type": "code",
   "execution_count": 369,
   "metadata": {},
   "outputs": [
    {
     "data": {
      "text/plain": [
       "array([22.08178768, 20.092306  , 18.08076543, 19.0803697 ])"
      ]
     },
     "execution_count": 369,
     "metadata": {},
     "output_type": "execute_result"
    }
   ],
   "source": [
    "damp_fuction(x, weight, avg)"
   ]
  },
  {
   "cell_type": "code",
   "execution_count": 370,
   "metadata": {
    "scrolled": true
   },
   "outputs": [
    {
     "data": {
      "text/plain": [
       "[<matplotlib.lines.Line2D at 0x17e0f047888>]"
      ]
     },
     "execution_count": 370,
     "metadata": {},
     "output_type": "execute_result"
    },
    {
     "data": {
      "image/png": "[encoded data removed]",
      "text/plain": [
       "<Figure size 432x288 with 1 Axes>"
      ]
     },
     "metadata": {
      "needs_background": "light"
     },
     "output_type": "display_data"
    }
   ],
   "source": [
    "x_new = np.arange(-10, 7,0.1)\n",
    "y_new = damp_fuction(x_new, weight, avg)\n",
    "plt.plot(x_new, y_new)\n",
    "plt.plot(x, y)"
   ]
  },
  {
   "cell_type": "code",
   "execution_count": null,
   "metadata": {},
   "outputs": [],
   "source": []
  },
  {
   "cell_type": "code",
   "execution_count": null,
   "metadata": {},
   "outputs": [],
   "source": []
  }
 ],
 "metadata": {
  "kernelspec": {
   "display_name": "Python 3",
   "language": "python",
   "name": "python3"
  },
  "language_info": {
   "codemirror_mode": {
    "name": "ipython",
    "version": 3
   },
   "file_extension": ".py",
   "mimetype": "text/x-python",
   "name": "python",
   "nbconvert_exporter": "python",
   "pygments_lexer": "ipython3",
   "version": "3.7.4"
  }
 },
 "nbformat": 4,
 "nbformat_minor": 2
}
