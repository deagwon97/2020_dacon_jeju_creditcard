{
 "cells": [
  {
   "cell_type": "markdown",
   "metadata": {},
   "source": [
    "## Library import"
   ]
  },
  {
   "cell_type": "code",
   "execution_count": 1,
   "metadata": {},
   "outputs": [],
   "source": [
    "import pandas as pd\n",
    "import matplotlib.pyplot as plt\n",
    "import seaborn as sns\n",
    "import gc\n",
    "import numpy as np\n",
    "from matplotlib import font_manager, rc\n",
    "from tqdm import tqdm\n",
    "font_name = font_manager.FontProperties(fname=\"c:/Windows/Fonts/malgun.ttf\").get_name()\n",
    "rc('font', family=font_name)"
   ]
  },
  {
   "cell_type": "markdown",
   "metadata": {},
   "source": [
    "## Data load"
   ]
  },
  {
   "cell_type": "code",
   "execution_count": null,
   "metadata": {},
   "outputs": [],
   "source": [
    "data = pd.read_csv('C:/Users/user/Desktop/DACON/jeju_credit_card/201901-202003.csv')\n",
    "gc.collect()"
   ]
  },
  {
   "cell_type": "markdown",
   "metadata": {},
   "source": [
    "### Features\n",
    "\n",
    "'REG_YYMM' : 년월\n",
    "\n",
    "'CARD_SIDO_NM' : 카드 이용지역_시도(가맹정 기준)\n",
    "\n",
    "'CARD_CCG_NM' : '카드 이용지역_시군구(가맹점 기준)\n",
    "\n",
    "'STD_CLSS_NM' : 업종명\n",
    "\n",
    "'HOM_SIDO_NM' : 거주지역_시도(고객 집주소)\n",
    "\n",
    "'HOM_CCG_NM' : 거주지역_시군구(고객 집주소)\n",
    "\n",
    "'AGE' : 나이\n",
    "\n",
    "'SEX_CTGO_CD' : 성별(1: 남, 2: 여)\n",
    "\n",
    "'FLC' : 가구 생애 주기 가구생애주기 (1: 1인가구, 2: 영유아자녀가구, 3: 중고생자녀가구, 4: 성인자녀가구, 5: 노년가구)\n",
    "\n",
    "'CSTMR_CNT' : 이용고객수(명)\n",
    "\n",
    "'AMT' : 이용금액(원)\n",
    "\n",
    "'CNT' : 이용건수(건)\n",
    "\n",
    "row : \"특정\" 날짜, 업종, 고객의 지역, 연령, 성별로 구분되는 그룹. 이 그룹의 이용 고객 수, 이용금액, 이용건수 또한 features로 표현되어 있다.\n",
    "\n",
    "목적 : 주어지는 test 데이터(2020년 4월(Public), 2020년 7월(Private))를 특정 지역, 업종, 날짜(월)로 그룹화 하고, 해당그룹의 AMT(이용금액)을 예측하는 모델을 만드는 것."
   ]
  },
  {
   "cell_type": "code",
   "execution_count": null,
   "metadata": {
    "scrolled": true
   },
   "outputs": [],
   "source": [
    "data.columns"
   ]
  },
  {
   "cell_type": "markdown",
   "metadata": {},
   "source": [
    "## 데이터 살펴보기"
   ]
  },
  {
   "cell_type": "code",
   "execution_count": null,
   "metadata": {
    "scrolled": true
   },
   "outputs": [],
   "source": [
    "data.head()"
   ]
  },
  {
   "cell_type": "code",
   "execution_count": null,
   "metadata": {},
   "outputs": [],
   "source": [
    "data.shape"
   ]
  },
  {
   "cell_type": "markdown",
   "metadata": {},
   "source": [
    "전체 데이터 수는 24,697,792(약 2470만개)이며, 12개의 features를 갖는다."
   ]
  },
  {
   "cell_type": "markdown",
   "metadata": {},
   "source": [
    "### 전체 업종의 종류는?"
   ]
  },
  {
   "cell_type": "code",
   "execution_count": null,
   "metadata": {
    "scrolled": false,
    "tags": []
   },
   "outputs": [],
   "source": [
    "print(data.STD_CLSS_NM.unique(),'\\n\\n')\n",
    "print(f'업종의 종류는 {len(data.STD_CLSS_NM.unique())}개 이다.')"
   ]
  },
  {
   "cell_type": "markdown",
   "metadata": {},
   "source": [
    "### 업종별 비율은?"
   ]
  },
  {
   "cell_type": "code",
   "execution_count": null,
   "metadata": {
    "scrolled": false
   },
   "outputs": [],
   "source": [
    "grupby_clss = data.loc[:,['STD_CLSS_NM', 'AMT']].groupby('STD_CLSS_NM')\n",
    "\n",
    "clss = pd.DataFrame(grupby_clss['STD_CLSS_NM'].count())\n",
    "clss['ratio'] = clss.STD_CLSS_NM / len(data)\n",
    "clss['percentage'] = clss['ratio'] * 100\n",
    "clss = clss.sort_values('percentage', ascending = False)\n",
    "\n",
    "clss['AMT'] = grupby_clss.sum()\n",
    "clss\n",
    "## 업종별 금액의 비율을 합쳐서 표현해보기"
   ]
  },
  {
   "cell_type": "code",
   "execution_count": null,
   "metadata": {},
   "outputs": [],
   "source": [
    "plt.figure(figsize = (15,7))\n",
    "sns.barplot(clss.index, clss.percentage)\n",
    "plt.title('size of classes')\n",
    "plt.xticks(rotation= 90)\n",
    "plt.show()"
   ]
  },
  {
   "cell_type": "code",
   "execution_count": null,
   "metadata": {},
   "outputs": [],
   "source": [
    "del grupby_clss\n",
    "del clss\n",
    "gc.collect()"
   ]
  },
  {
   "cell_type": "markdown",
   "metadata": {},
   "source": [
    "# 시각화"
   ]
  },
  {
   "cell_type": "markdown",
   "metadata": {},
   "source": [
    "### 지역, 업종별 매출을 월별로 시각화\n"
   ]
  },
  {
   "cell_type": "code",
   "execution_count": null,
   "metadata": {
    "scrolled": true
   },
   "outputs": [],
   "source": [
    "group_data = data.loc[:,['CARD_SIDO_NM', 'STD_CLSS_NM','REG_YYMM', 'AMT']].groupby(['CARD_SIDO_NM', 'STD_CLSS_NM','REG_YYMM']).sum()\n",
    "group_data = np.log(group_data)\n",
    "\n",
    "days = group_data.reset_index()['REG_YYMM'].unique().astype('str')\n",
    "days # REG_YYMM를 string으로 변환\n",
    "\n",
    "citys = data.CARD_SIDO_NM.unique()\n",
    "# citys : 지역(시도)의 이름들을 list로 저장\n",
    "\n",
    "\n",
    "for city in citys:\n",
    "    # 지역별로 figure생성\n",
    "    plt.figure(figsize = (10,5))\n",
    "    clsses = data[data.CARD_SIDO_NM == city].STD_CLSS_NM.unique()\n",
    "    # 특정지역에서는 업종이 없는 경우도 있음.\n",
    "    # 지역별로 업종 list를 새로 생성\n",
    "    for clss in clsses:\n",
    "        #업종별로 barplot 그리기 : x축은 날짜, y축은 해당 업종, 지역의 AMT 총합\n",
    "        y = group_data.loc[city, clss,:].values.reshape(-1)\n",
    "        #print(len(y), len(days))\n",
    "        if len(y) == len(days):\n",
    "            plt.plot(days, y, alpha = 0.7, label = city) \n",
    "        else:\n",
    "            print(city, clss) # 월별데이터가 모두 없는 경우는 plot에서 제외하고 print\n",
    "        plt.xticks(rotation= 45)\n",
    "    plt.title(city)\n",
    "    plt.show()\n",
    "    #break"
   ]
  },
  {
   "cell_type": "code",
   "execution_count": null,
   "metadata": {},
   "outputs": [],
   "source": [
    "del group_data\n",
    "gc.collect()"
   ]
  },
  {
   "cell_type": "markdown",
   "metadata": {},
   "source": [
    "# 예측 모형 만들기\n",
    "### 지역과 업종별로 새롭게 계산한 Cov 변수를 적용하여 예측하기\n",
    "1. group_city_clss_time, group_city_clss 만들기\n",
    "2. m1_m4_ratio, cov_ratio 계산하기\n",
    "\n",
    "\n",
    "\n",
    "1. 20년1월 * (19년4월 / 19년1월) => 예측_20년4월(non_cov)\n",
    "2. mean(20년2월/19년2월, 20년3월/19년3월) => 예측_con_ratio \n",
    "3. 예측_20년4월(non_cov) * 예측_con_ratio  => 예측_20년4월(cov)"
   ]
  },
  {
   "cell_type": "markdown",
   "metadata": {},
   "source": [
    "## 1. group_city_clss_time, group_city_clss 만들기\n",
    "\n",
    "* group_city_clss_time : (도시, 업종, 월별)을 기준으로 groupby\n",
    "* group_city_clss : (도시, 업종)을 기준으로 groupby"
   ]
  },
  {
   "cell_type": "markdown",
   "metadata": {},
   "source": [
    "### 1) group_city_clss_time"
   ]
  },
  {
   "cell_type": "code",
   "execution_count": null,
   "metadata": {
    "scrolled": false
   },
   "outputs": [],
   "source": [
    "# 데이터를 날짜, 도시, 업종으로 groupby\n",
    "# 인덱싱을 편하게 하기 위해 row를 CARD_SIDO_NM,\tSTD_CLSS_NM, REG_YYMM 3개의 level로 표현\n",
    "\n",
    "group_city_clss_time = data.loc[:, ['REG_YYMM', 'CARD_SIDO_NM', 'STD_CLSS_NM', 'AMT']]\\\n",
    "                           .groupby(['CARD_SIDO_NM', 'STD_CLSS_NM', 'REG_YYMM'])['AMT']\\\n",
    "                           .sum()\n",
    "\n",
    "group_city_clss_time = pd.DataFrame(group_city_clss_time)\n",
    "gc.collect()\n",
    "# group_data는 'AMT'하나만 column으로 갖는다.\n",
    "group_city_clss_time = np.log(group_city_clss_time)\n",
    "group_city_clss_time"
   ]
  },
  {
   "cell_type": "markdown",
   "metadata": {},
   "source": [
    "### 2) group_city_clss"
   ]
  },
  {
   "cell_type": "code",
   "execution_count": null,
   "metadata": {
    "scrolled": false
   },
   "outputs": [],
   "source": [
    "#group_city_clss 만들기\n",
    "# CARD_SIDO_NM , STD_CLSS_NM으로만 groupby\n",
    "# REG_YYMM는 모두 통합\n",
    "group_city_clss = pd.DataFrame(data.loc[:, ['CARD_SIDO_NM',\n",
    "                          'STD_CLSS_NM',\n",
    "                          'AMT']].groupby(['CARD_SIDO_NM',\n",
    "                                          'STD_CLSS_NM'])['AMT'].sum())\n",
    "\n",
    "group_city_clss['AMT'] = np.log(group_city_clss['AMT'])\n",
    "group_city_clss = group_city_clss.reset_index() #index를 column에 포함시키기\n",
    "group_city_clss['m1_m4_ratio'] =  0\n",
    "group_city_clss['cov_ratio'] = 0\n",
    "group_city_clss"
   ]
  },
  {
   "cell_type": "markdown",
   "metadata": {},
   "source": [
    "## 2. m1_m4_ratio, cov_ratio 계산하기"
   ]
  },
  {
   "cell_type": "markdown",
   "metadata": {},
   "source": [
    "### 1) m1_m4_ratio, cov_ratio 계산하기"
   ]
  },
  {
   "cell_type": "code",
   "execution_count": null,
   "metadata": {
    "scrolled": false,
    "tags": []
   },
   "outputs": [],
   "source": [
    "# 지역, 업종별로 코로나 영향을 조사하는 함수\n",
    "citys = group_city_clss.CARD_SIDO_NM.unique()\n",
    "\n",
    "i = 0 # row의 index\n",
    "for city in tqdm(citys):\n",
    "    clsses = group_city_clss[group_city_clss.CARD_SIDO_NM == city].STD_CLSS_NM.unique()\n",
    "    for clss in clsses:                 \n",
    "        # m1_m4_ratio 구하기-----------------------------------------------------------------------------------\n",
    "        ## 201901, 201904, 202001중 하나라도 없을 경우 m01_m04_ratio 계산이 무의미함\n",
    "        condition = (201901 not in group_city_clss_time.loc[city, clss].index) or \\\n",
    "                        (201904 not in group_city_clss_time.loc[city, clss].index) or \\\n",
    "                            (202001 not in group_city_clss_time.loc[city, clss].index)\n",
    "        if condition: # condition이 True일 때는 -1로 채우기\n",
    "            group_city_clss.iloc[i, 4] =  -1\n",
    "            \n",
    "        else: # 모든 데이터가 다 있을 때, m01_m04_ratio를 계산\n",
    "            m01_m04_ratio = group_city_clss_time.loc[city, clss, 201904].values \\\n",
    "                            / group_city_clss_time.loc[city, clss, 201901].values\n",
    "            group_city_clss.iloc[i, 4] =  m01_m04_ratio\n",
    "        \n",
    "        # cov_ratio 구하기-----------------------------------------------------------------------------------\n",
    "        ## 201902, 201903, 202002, 202003 중 하나라도 없을 경우 cov_ratio 계산이 무의미함\n",
    "        condition = (201902 not in group_city_clss_time.loc[city, clss].index) or \\\n",
    "                        (201903 not in group_city_clss_time.loc[city, clss].index) or \\\n",
    "                            (202002 not in group_city_clss_time.loc[city, clss].index) or \\\n",
    "                                (202003 not in group_city_clss_time.loc[city, clss].index) \n",
    "        if condition:\n",
    "            group_city_clss.iloc[i, 3] =  -1\n",
    "            \n",
    "        else:\n",
    "            ratio_m02 = group_city_clss_time.loc[city, clss, 202002].values \\\n",
    "                            / group_city_clss_time.loc[city, clss, 201902].values\n",
    "            ratio_m03 = group_city_clss_time.loc[city, clss, 202003].values \\\n",
    "                            / group_city_clss_time.loc[city, clss, 201903].values\n",
    "            group_city_clss.iloc[i, 3] =  np.mean([ratio_m02, ratio_m03])\n",
    "        \n",
    "        # i는 1 증가-----------------------------------------------------------------------------------\n",
    "        i = i+1\n",
    "group_city_clss"
   ]
  },
  {
   "cell_type": "markdown",
   "metadata": {},
   "source": [
    "### 2) m1_m4_ratio, cov_ratio의 null 채우기"
   ]
  },
  {
   "cell_type": "code",
   "execution_count": null,
   "metadata": {},
   "outputs": [],
   "source": [
    "print('cov_ratio가 없는 경우',len(group_city_clss[(group_city_clss['cov_ratio'] == -1)]), '개 /  650 개')\n",
    "print('m1_m4_ratio가 없는 경우',len(group_city_clss[(group_city_clss['m1_m4_ratio'] == -1)]), '개 /  650 개')"
   ]
  },
  {
   "cell_type": "markdown",
   "metadata": {},
   "source": [
    "#### i. cov_ratio의 null 값 채우기"
   ]
  },
  {
   "cell_type": "code",
   "execution_count": null,
   "metadata": {
    "scrolled": false
   },
   "outputs": [],
   "source": [
    "group_city_clss[(group_city_clss['STD_CLSS_NM'] == '택시 운송업') ]\n",
    "## 택시 운송없의 경우 우선 데이터가 많지 않다.\n",
    "## 또한 지역별로 코로나 변수의 편차가 심하다 -> 어던 지역은 코로나의 영향을 덜 받고, 어떤 지역은 코로나의 영향을 많이 받는다.\n",
    "#  이 문제를 해결할 방법이 떠오르지 않으므로 그냥 동일 업종의 다른 지역 ratio를 평균해서 구함.\n",
    "\n",
    "# 이곳의 null값을 채우는 방법 -> 1안 코로나 변수가 존재하는 지역들의 평균\n",
    "                                # 2안 있는 데이터를 잘 조합하여 생성"
   ]
  },
  {
   "cell_type": "code",
   "execution_count": null,
   "metadata": {},
   "outputs": [],
   "source": [
    "none_clsses = group_city_clss[group_city_clss['cov_ratio'] == -1].STD_CLSS_NM.unique()\n",
    "\n",
    "for none_clss in none_clsses:\n",
    "    group_city_clss.loc[((group_city_clss.STD_CLSS_NM == none_clss) & (group_city_clss.cov_ratio == -1)),'cov_ratio']\\\n",
    "            = group_city_clss.loc[((group_city_clss.STD_CLSS_NM == none_clss) \\\n",
    "                & (group_city_clss.cov_ratio != -1)),'cov_ratio'].mean()"
   ]
  },
  {
   "cell_type": "code",
   "execution_count": null,
   "metadata": {},
   "outputs": [],
   "source": [
    "group_city_clss[group_city_clss['STD_CLSS_NM'] == '택시 운송업']"
   ]
  },
  {
   "cell_type": "code",
   "execution_count": 14,
   "metadata": {
    "tags": []
   },
   "outputs": [
    {
     "name": "stdout",
     "output_type": "stream",
     "text": [
      "cov_ratio가 없는 경우 0 개 /  650 개\n"
     ]
    }
   ],
   "source": [
    "print('cov_ratio가 없는 경우',len(group_city_clss[(group_city_clss['cov_ratio'] == -1)]), '개 /  650 개')\n",
    "## 모든 Null 값을 채웠다."
   ]
  },
  {
   "cell_type": "markdown",
   "metadata": {},
   "source": [
    "#### ii. m1_m4_ratio의 null 값 채우기"
   ]
  },
  {
   "cell_type": "code",
   "execution_count": 15,
   "metadata": {},
   "outputs": [],
   "source": [
    "# 같은 방식으로 m1_m4_ratio의 Null 데이터로 채웠다.\n",
    "# 하지만 2020년 1월 데이터가 없을 경우 2020년 4월 데이터를 구 할 수 없다. 이 문제를 해결할 방법을 찾아야 한다.\n",
    "none_clsses = group_city_clss[group_city_clss['m1_m4_ratio'] == -1].STD_CLSS_NM.unique()\n",
    "for none_clss in none_clsses:\n",
    "    group_city_clss.loc[((group_city_clss.STD_CLSS_NM == none_clss) & (group_city_clss.m1_m4_ratio == -1)),'m1_m4_ratio']\\\n",
    "            = group_city_clss.loc[((group_city_clss.STD_CLSS_NM == none_clss) & (group_city_clss.m1_m4_ratio != -1)),'m1_m4_ratio'].mean()"
   ]
  },
  {
   "cell_type": "code",
   "execution_count": 16,
   "metadata": {
    "tags": []
   },
   "outputs": [
    {
     "name": "stdout",
     "output_type": "stream",
     "text": [
      "m1_m4_ratio가 없는 경우 0 개 /  650 개\n"
     ]
    }
   ],
   "source": [
    "print('m1_m4_ratio가 없는 경우',len(group_city_clss[(group_city_clss['m1_m4_ratio'] == -1)]), '개 /  650 개')"
   ]
  },
  {
   "cell_type": "markdown",
   "metadata": {},
   "source": [
    "## 3.  non_cov 20년 4월 예측하기"
   ]
  },
  {
   "cell_type": "code",
   "execution_count": 17,
   "metadata": {
    "tags": []
   },
   "outputs": [
    {
     "name": "stderr",
     "output_type": "stream",
     "text": [
      "100%|███████████████████████████████████████████████████████████████████████████████| 650/650 [00:00<00:00, 772.33it/s]\n"
     ]
    },
    {
     "data": {
      "text/html": [
       "<div>\n",
       "<style scoped>\n",
       "    .dataframe tbody tr th:only-of-type {\n",
       "        vertical-align: middle;\n",
       "    }\n",
       "\n",
       "    .dataframe tbody tr th {\n",
       "        vertical-align: top;\n",
       "    }\n",
       "\n",
       "    .dataframe thead th {\n",
       "        text-align: right;\n",
       "    }\n",
       "</style>\n",
       "<table border=\"1\" class=\"dataframe\">\n",
       "  <thead>\n",
       "    <tr style=\"text-align: right;\">\n",
       "      <th></th>\n",
       "      <th>CARD_SIDO_NM</th>\n",
       "      <th>STD_CLSS_NM</th>\n",
       "      <th>AMT</th>\n",
       "      <th>m1_m4_ratio</th>\n",
       "      <th>cov_ratio</th>\n",
       "      <th>COV_M04</th>\n",
       "    </tr>\n",
       "  </thead>\n",
       "  <tbody>\n",
       "    <tr>\n",
       "      <td>0</td>\n",
       "      <td>강원</td>\n",
       "      <td>건강보조식품 소매업</td>\n",
       "      <td>21.322555</td>\n",
       "      <td>0.979164</td>\n",
       "      <td>0.982407</td>\n",
       "      <td>18.311367</td>\n",
       "    </tr>\n",
       "    <tr>\n",
       "      <td>1</td>\n",
       "      <td>강원</td>\n",
       "      <td>골프장 운영업</td>\n",
       "      <td>24.660779</td>\n",
       "      <td>0.997095</td>\n",
       "      <td>1.055955</td>\n",
       "      <td>22.046687</td>\n",
       "    </tr>\n",
       "    <tr>\n",
       "      <td>2</td>\n",
       "      <td>강원</td>\n",
       "      <td>과실 및 채소 소매업</td>\n",
       "      <td>23.537206</td>\n",
       "      <td>0.995333</td>\n",
       "      <td>0.978955</td>\n",
       "      <td>20.636046</td>\n",
       "    </tr>\n",
       "    <tr>\n",
       "      <td>3</td>\n",
       "      <td>강원</td>\n",
       "      <td>관광 민예품 및 선물용품 소매업</td>\n",
       "      <td>19.940658</td>\n",
       "      <td>0.971566</td>\n",
       "      <td>0.968806</td>\n",
       "      <td>16.210154</td>\n",
       "    </tr>\n",
       "    <tr>\n",
       "      <td>4</td>\n",
       "      <td>강원</td>\n",
       "      <td>그외 기타 분류안된 오락관련 서비스업</td>\n",
       "      <td>12.083905</td>\n",
       "      <td>0.948003</td>\n",
       "      <td>1.062286</td>\n",
       "      <td>12.083905</td>\n",
       "    </tr>\n",
       "    <tr>\n",
       "      <td>...</td>\n",
       "      <td>...</td>\n",
       "      <td>...</td>\n",
       "      <td>...</td>\n",
       "      <td>...</td>\n",
       "      <td>...</td>\n",
       "      <td>...</td>\n",
       "    </tr>\n",
       "    <tr>\n",
       "      <td>645</td>\n",
       "      <td>충북</td>\n",
       "      <td>피자 햄버거 샌드위치 및 유사 음식점업</td>\n",
       "      <td>23.781699</td>\n",
       "      <td>0.995492</td>\n",
       "      <td>1.000281</td>\n",
       "      <td>20.932187</td>\n",
       "    </tr>\n",
       "    <tr>\n",
       "      <td>646</td>\n",
       "      <td>충북</td>\n",
       "      <td>한식 음식점업</td>\n",
       "      <td>26.513671</td>\n",
       "      <td>0.990158</td>\n",
       "      <td>1.001085</td>\n",
       "      <td>23.584251</td>\n",
       "    </tr>\n",
       "    <tr>\n",
       "      <td>647</td>\n",
       "      <td>충북</td>\n",
       "      <td>호텔업</td>\n",
       "      <td>20.090111</td>\n",
       "      <td>0.944111</td>\n",
       "      <td>1.008980</td>\n",
       "      <td>16.705659</td>\n",
       "    </tr>\n",
       "    <tr>\n",
       "      <td>648</td>\n",
       "      <td>충북</td>\n",
       "      <td>화장품 및 방향제 소매업</td>\n",
       "      <td>22.939802</td>\n",
       "      <td>0.980083</td>\n",
       "      <td>0.997129</td>\n",
       "      <td>19.694103</td>\n",
       "    </tr>\n",
       "    <tr>\n",
       "      <td>649</td>\n",
       "      <td>충북</td>\n",
       "      <td>휴양콘도 운영업</td>\n",
       "      <td>21.604856</td>\n",
       "      <td>0.909072</td>\n",
       "      <td>0.965097</td>\n",
       "      <td>16.861221</td>\n",
       "    </tr>\n",
       "  </tbody>\n",
       "</table>\n",
       "<p>650 rows × 6 columns</p>\n",
       "</div>"
      ],
      "text/plain": [
       "    CARD_SIDO_NM            STD_CLSS_NM        AMT  m1_m4_ratio  cov_ratio  \\\n",
       "0             강원             건강보조식품 소매업  21.322555     0.979164   0.982407   \n",
       "1             강원                골프장 운영업  24.660779     0.997095   1.055955   \n",
       "2             강원            과실 및 채소 소매업  23.537206     0.995333   0.978955   \n",
       "3             강원      관광 민예품 및 선물용품 소매업  19.940658     0.971566   0.968806   \n",
       "4             강원   그외 기타 분류안된 오락관련 서비스업  12.083905     0.948003   1.062286   \n",
       "..           ...                    ...        ...          ...        ...   \n",
       "645           충북  피자 햄버거 샌드위치 및 유사 음식점업  23.781699     0.995492   1.000281   \n",
       "646           충북                한식 음식점업  26.513671     0.990158   1.001085   \n",
       "647           충북                    호텔업  20.090111     0.944111   1.008980   \n",
       "648           충북          화장품 및 방향제 소매업  22.939802     0.980083   0.997129   \n",
       "649           충북               휴양콘도 운영업  21.604856     0.909072   0.965097   \n",
       "\n",
       "       COV_M04  \n",
       "0    18.311367  \n",
       "1    22.046687  \n",
       "2    20.636046  \n",
       "3    16.210154  \n",
       "4    12.083905  \n",
       "..         ...  \n",
       "645  20.932187  \n",
       "646  23.584251  \n",
       "647  16.705659  \n",
       "648  19.694103  \n",
       "649  16.861221  \n",
       "\n",
       "[650 rows x 6 columns]"
      ]
     },
     "execution_count": 17,
     "metadata": {},
     "output_type": "execute_result"
    }
   ],
   "source": [
    "group_city_clss['COV_M04'] = 0\n",
    "\n",
    "for i in tqdm(range(len(group_city_clss))):\n",
    "        city = group_city_clss.iloc[i,0]\n",
    "        clss = group_city_clss.iloc[i,1]\n",
    "\n",
    "        no_202001 = (202001 not in group_city_clss_time.loc[city, clss].index)\n",
    "        if no_202001:\n",
    "            no_201904 = (201904 not in group_city_clss_time.loc[city, clss].index)\n",
    "            if no_201904:\n",
    "                group_city_clss.iloc[i,-1] = group_city_clss_time.loc[city, clss].values.mean()\n",
    "            else:\n",
    "                group_city_clss.iloc[i,-1] = group_city_clss_time.loc[city, clss, 201904].values\n",
    "\n",
    "        else:\n",
    "            group_city_clss.iloc[i,-1] = group_city_clss_time.loc[city, clss, 202001].values\\\n",
    "                                      * group_city_clss.iloc[i,3]\\\n",
    "                                      * group_city_clss.iloc[i,4]\n",
    "\n",
    "group_city_clss"
   ]
  },
  {
   "cell_type": "markdown",
   "metadata": {},
   "source": [
    "## 4. COV_M04를 submission에 채워넣기"
   ]
  },
  {
   "cell_type": "code",
   "execution_count": 18,
   "metadata": {},
   "outputs": [
    {
     "data": {
      "text/html": [
       "<div>\n",
       "<style scoped>\n",
       "    .dataframe tbody tr th:only-of-type {\n",
       "        vertical-align: middle;\n",
       "    }\n",
       "\n",
       "    .dataframe tbody tr th {\n",
       "        vertical-align: top;\n",
       "    }\n",
       "\n",
       "    .dataframe thead th {\n",
       "        text-align: right;\n",
       "    }\n",
       "</style>\n",
       "<table border=\"1\" class=\"dataframe\">\n",
       "  <thead>\n",
       "    <tr style=\"text-align: right;\">\n",
       "      <th></th>\n",
       "      <th>REG_YYMM</th>\n",
       "      <th>CARD_SIDO_NM</th>\n",
       "      <th>STD_CLSS_NM</th>\n",
       "      <th>AMT</th>\n",
       "      <th>COV_M04</th>\n",
       "    </tr>\n",
       "  </thead>\n",
       "  <tbody>\n",
       "    <tr>\n",
       "      <td>0</td>\n",
       "      <td>202004</td>\n",
       "      <td>강원</td>\n",
       "      <td>건강보조식품 소매업</td>\n",
       "      <td>0</td>\n",
       "      <td>8.964489e+07</td>\n",
       "    </tr>\n",
       "    <tr>\n",
       "      <td>1</td>\n",
       "      <td>202004</td>\n",
       "      <td>강원</td>\n",
       "      <td>골프장 운영업</td>\n",
       "      <td>0</td>\n",
       "      <td>3.756249e+09</td>\n",
       "    </tr>\n",
       "    <tr>\n",
       "      <td>2</td>\n",
       "      <td>202004</td>\n",
       "      <td>강원</td>\n",
       "      <td>과실 및 채소 소매업</td>\n",
       "      <td>0</td>\n",
       "      <td>9.164756e+08</td>\n",
       "    </tr>\n",
       "    <tr>\n",
       "      <td>3</td>\n",
       "      <td>202004</td>\n",
       "      <td>강원</td>\n",
       "      <td>관광 민예품 및 선물용품 소매업</td>\n",
       "      <td>0</td>\n",
       "      <td>1.096429e+07</td>\n",
       "    </tr>\n",
       "    <tr>\n",
       "      <td>4</td>\n",
       "      <td>202004</td>\n",
       "      <td>강원</td>\n",
       "      <td>그외 기타 분류안된 오락관련 서비스업</td>\n",
       "      <td>0</td>\n",
       "      <td>1.770000e+05</td>\n",
       "    </tr>\n",
       "    <tr>\n",
       "      <td>...</td>\n",
       "      <td>...</td>\n",
       "      <td>...</td>\n",
       "      <td>...</td>\n",
       "      <td>...</td>\n",
       "      <td>...</td>\n",
       "    </tr>\n",
       "    <tr>\n",
       "      <td>1389</td>\n",
       "      <td>202007</td>\n",
       "      <td>충북</td>\n",
       "      <td>피자 햄버거 샌드위치 및 유사 음식점업</td>\n",
       "      <td>0</td>\n",
       "      <td>1.232347e+09</td>\n",
       "    </tr>\n",
       "    <tr>\n",
       "      <td>1390</td>\n",
       "      <td>202007</td>\n",
       "      <td>충북</td>\n",
       "      <td>한식 음식점업</td>\n",
       "      <td>0</td>\n",
       "      <td>1.747873e+10</td>\n",
       "    </tr>\n",
       "    <tr>\n",
       "      <td>1391</td>\n",
       "      <td>202007</td>\n",
       "      <td>충북</td>\n",
       "      <td>호텔업</td>\n",
       "      <td>0</td>\n",
       "      <td>1.799597e+07</td>\n",
       "    </tr>\n",
       "    <tr>\n",
       "      <td>1392</td>\n",
       "      <td>202007</td>\n",
       "      <td>충북</td>\n",
       "      <td>화장품 및 방향제 소매업</td>\n",
       "      <td>0</td>\n",
       "      <td>3.573058e+08</td>\n",
       "    </tr>\n",
       "    <tr>\n",
       "      <td>1393</td>\n",
       "      <td>202007</td>\n",
       "      <td>충북</td>\n",
       "      <td>휴양콘도 운영업</td>\n",
       "      <td>0</td>\n",
       "      <td>2.102495e+07</td>\n",
       "    </tr>\n",
       "  </tbody>\n",
       "</table>\n",
       "<p>1394 rows × 5 columns</p>\n",
       "</div>"
      ],
      "text/plain": [
       "      REG_YYMM CARD_SIDO_NM            STD_CLSS_NM  AMT       COV_M04\n",
       "0       202004           강원             건강보조식품 소매업    0  8.964489e+07\n",
       "1       202004           강원                골프장 운영업    0  3.756249e+09\n",
       "2       202004           강원            과실 및 채소 소매업    0  9.164756e+08\n",
       "3       202004           강원      관광 민예품 및 선물용품 소매업    0  1.096429e+07\n",
       "4       202004           강원   그외 기타 분류안된 오락관련 서비스업    0  1.770000e+05\n",
       "...        ...          ...                    ...  ...           ...\n",
       "1389    202007           충북  피자 햄버거 샌드위치 및 유사 음식점업    0  1.232347e+09\n",
       "1390    202007           충북                한식 음식점업    0  1.747873e+10\n",
       "1391    202007           충북                    호텔업    0  1.799597e+07\n",
       "1392    202007           충북          화장품 및 방향제 소매업    0  3.573058e+08\n",
       "1393    202007           충북               휴양콘도 운영업    0  2.102495e+07\n",
       "\n",
       "[1394 rows x 5 columns]"
      ]
     },
     "execution_count": 18,
     "metadata": {},
     "output_type": "execute_result"
    }
   ],
   "source": [
    "group_city_clss['COV_M04'] = np.exp(group_city_clss['COV_M04']) # 로그 스케일을 다시 복원\n",
    "\n",
    "submission_layout = pd.read_csv('C:/Users/user/Desktop/DACON/jeju_credit_card/submission.csv', index_col=0)\n",
    "submission_layout = submission_layout.merge(group_city_clss.loc[:,['CARD_SIDO_NM', 'STD_CLSS_NM', 'COV_M04']],\n",
    "                              left_on=['CARD_SIDO_NM', 'STD_CLSS_NM'],\n",
    "                              right_on=['CARD_SIDO_NM', 'STD_CLSS_NM'],\n",
    "                              how='left')\n",
    "submission_layout = submission_layout.fillna(0)\n",
    "\n",
    "submission_layout"
   ]
  },
  {
   "cell_type": "code",
   "execution_count": 21,
   "metadata": {},
   "outputs": [
    {
     "data": {
      "text/html": [
       "<div>\n",
       "<style scoped>\n",
       "    .dataframe tbody tr th:only-of-type {\n",
       "        vertical-align: middle;\n",
       "    }\n",
       "\n",
       "    .dataframe tbody tr th {\n",
       "        vertical-align: top;\n",
       "    }\n",
       "\n",
       "    .dataframe thead th {\n",
       "        text-align: right;\n",
       "    }\n",
       "</style>\n",
       "<table border=\"1\" class=\"dataframe\">\n",
       "  <thead>\n",
       "    <tr style=\"text-align: right;\">\n",
       "      <th></th>\n",
       "      <th>REG_YYMM</th>\n",
       "      <th>CARD_SIDO_NM</th>\n",
       "      <th>STD_CLSS_NM</th>\n",
       "      <th>AMT</th>\n",
       "    </tr>\n",
       "    <tr>\n",
       "      <th>id</th>\n",
       "      <th></th>\n",
       "      <th></th>\n",
       "      <th></th>\n",
       "      <th></th>\n",
       "    </tr>\n",
       "  </thead>\n",
       "  <tbody>\n",
       "    <tr>\n",
       "      <td>0</td>\n",
       "      <td>202004</td>\n",
       "      <td>강원</td>\n",
       "      <td>건강보조식품 소매업</td>\n",
       "      <td>8.964489e+07</td>\n",
       "    </tr>\n",
       "    <tr>\n",
       "      <td>1</td>\n",
       "      <td>202004</td>\n",
       "      <td>강원</td>\n",
       "      <td>골프장 운영업</td>\n",
       "      <td>3.756249e+09</td>\n",
       "    </tr>\n",
       "    <tr>\n",
       "      <td>2</td>\n",
       "      <td>202004</td>\n",
       "      <td>강원</td>\n",
       "      <td>과실 및 채소 소매업</td>\n",
       "      <td>9.164756e+08</td>\n",
       "    </tr>\n",
       "    <tr>\n",
       "      <td>3</td>\n",
       "      <td>202004</td>\n",
       "      <td>강원</td>\n",
       "      <td>관광 민예품 및 선물용품 소매업</td>\n",
       "      <td>1.096429e+07</td>\n",
       "    </tr>\n",
       "    <tr>\n",
       "      <td>4</td>\n",
       "      <td>202004</td>\n",
       "      <td>강원</td>\n",
       "      <td>그외 기타 분류안된 오락관련 서비스업</td>\n",
       "      <td>1.770000e+05</td>\n",
       "    </tr>\n",
       "  </tbody>\n",
       "</table>\n",
       "</div>"
      ],
      "text/plain": [
       "    REG_YYMM CARD_SIDO_NM           STD_CLSS_NM           AMT\n",
       "id                                                           \n",
       "0     202004           강원            건강보조식품 소매업  8.964489e+07\n",
       "1     202004           강원               골프장 운영업  3.756249e+09\n",
       "2     202004           강원           과실 및 채소 소매업  9.164756e+08\n",
       "3     202004           강원     관광 민예품 및 선물용품 소매업  1.096429e+07\n",
       "4     202004           강원  그외 기타 분류안된 오락관련 서비스업  1.770000e+05"
      ]
     },
     "execution_count": 21,
     "metadata": {},
     "output_type": "execute_result"
    }
   ],
   "source": [
    "submit_path = 'C:/Users/user/Desktop/DACON/jeju_credit_card/submission.csv'\n",
    "\n",
    "submission_layout = pd.read_csv(submit_path, index_col=0)\n",
    "submission_layout = submission_layout.loc[submission_layout['REG_YYMM']==202004,:]\n",
    "submission_layout = submission_layout.merge(group_city_clss.loc[:,['CARD_SIDO_NM', 'STD_CLSS_NM', 'COV_M04']],\n",
    "                              left_on=['CARD_SIDO_NM', 'STD_CLSS_NM'],\n",
    "                              right_on=['CARD_SIDO_NM', 'STD_CLSS_NM'],\n",
    "                              how='left')\n",
    "submission_layout = submission_layout.fillna(0)\n",
    "\n",
    "\n",
    "AMT = list(submission_layout['COV_M04'])*2\n",
    "del submission_layout\n",
    "gc.collect()\n",
    "\n",
    "submission = pd.read_csv(submit_path, index_col=0)\n",
    "submission.AMT = AMT\n",
    "submission.to_csv('C:/Users/user/Desktop/DACON/jeju_credit_card/log_submission.csv', encoding='utf-8-sig')\n",
    "submission.head()"
   ]
  },
  {
   "cell_type": "code",
   "execution_count": null,
   "metadata": {},
   "outputs": [],
   "source": []
  }
 ],
 "metadata": {
  "kernelspec": {
   "display_name": "Python 3",
   "language": "python",
   "name": "python3"
  },
  "language_info": {
   "codemirror_mode": {
    "name": "ipython",
    "version": 3
   },
   "file_extension": ".py",
   "mimetype": "text/x-python",
   "name": "python",
   "nbconvert_exporter": "python",
   "pygments_lexer": "ipython3",
   "version": "3.7.4"
  }
 },
 "nbformat": 4,
 "nbformat_minor": 2
}
