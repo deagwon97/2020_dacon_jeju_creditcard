{
 "cells": [
  {
   "cell_type": "markdown",
   "metadata": {},
   "source": [
    "## Library import"
   ]
  },
  {
   "cell_type": "code",
   "execution_count": 1,
   "metadata": {},
   "outputs": [],
   "source": [
    "import pandas as pd\n",
    "import matplotlib.pyplot as plt\n",
    "import seaborn as sns\n",
    "import gc\n",
    "import numpy as np\n",
    "from matplotlib import font_manager, rc\n",
    "from tqdm import tqdm\n",
    "font_name = font_manager.FontProperties(fname=\"c:/Windows/Fonts/malgun.ttf\").get_name()\n",
    "rc('font', family=font_name)"
   ]
  },
  {
   "cell_type": "markdown",
   "metadata": {},
   "source": [
    "## Data load"
   ]
  },
  {
   "cell_type": "code",
   "execution_count": 2,
   "metadata": {},
   "outputs": [
    {
     "data": {
      "text/plain": [
       "7"
      ]
     },
     "execution_count": 2,
     "metadata": {},
     "output_type": "execute_result"
    }
   ],
   "source": [
    "data = pd.read_csv('C:/Users/user/Desktop/DACON/jeju_credit_card/201901-202003.csv')\n",
    "gc.collect()"
   ]
  },
  {
   "cell_type": "markdown",
   "metadata": {},
   "source": [
    "### Features\n",
    "\n",
    "'REG_YYMM' : 년월\n",
    "\n",
    "'CARD_SIDO_NM' : 카드 이용지역_시도(가맹정 기준)\n",
    "\n",
    "'CARD_CCG_NM' : '카드 이용지역_시군구(가맹점 기준)\n",
    "\n",
    "'STD_CLSS_NM' : 업종명\n",
    "\n",
    "'HOM_SIDO_NM' : 거주지역_시도(고객 집주소)\n",
    "\n",
    "'HOM_CCG_NM' : 거주지역_시군구(고객 집주소)\n",
    "\n",
    "'AGE' : 나이\n",
    "\n",
    "'SEX_CTGO_CD' : 성별(1: 남, 2: 여)\n",
    "\n",
    "'FLC' : 가구 생애 주기 가구생애주기 (1: 1인가구, 2: 영유아자녀가구, 3: 중고생자녀가구, 4: 성인자녀가구, 5: 노년가구)\n",
    "\n",
    "'CSTMR_CNT' : 이용고객수(명)\n",
    "\n",
    "'AMT' : 이용금액(원)\n",
    "\n",
    "'CNT' : 이용건수(건)\n",
    "\n",
    "row : \"특정\" 날짜, 업종, 고객의 지역, 연령, 성별로 구분되는 그룹. 이 그룹의 이용 고객 수, 이용금액, 이용건수 또한 features로 표현되어 있다.\n",
    "\n",
    "목적 : 주어지는 test 데이터(2020년 4월(Public), 2020년 7월(Private))를 특정 지역, 업종, 날짜(월)로 그룹화 하고, 해당그룹의 AMT(이용금액)을 예측하는 모델을 만드는 것."
   ]
  },
  {
   "cell_type": "code",
   "execution_count": 3,
   "metadata": {
    "scrolled": true
   },
   "outputs": [
    {
     "data": {
      "text/plain": [
       "Index(['REG_YYMM', 'CARD_SIDO_NM', 'CARD_CCG_NM', 'STD_CLSS_NM', 'HOM_SIDO_NM',\n",
       "       'HOM_CCG_NM', 'AGE', 'SEX_CTGO_CD', 'FLC', 'CSTMR_CNT', 'AMT', 'CNT'],\n",
       "      dtype='object')"
      ]
     },
     "execution_count": 3,
     "metadata": {},
     "output_type": "execute_result"
    }
   ],
   "source": [
    "data.columns"
   ]
  },
  {
   "cell_type": "markdown",
   "metadata": {},
   "source": [
    "## 데이터 살펴보기"
   ]
  },
  {
   "cell_type": "code",
   "execution_count": 4,
   "metadata": {
    "scrolled": true
   },
   "outputs": [
    {
     "data": {
      "text/html": [
       "<div>\n",
       "<style scoped>\n",
       "    .dataframe tbody tr th:only-of-type {\n",
       "        vertical-align: middle;\n",
       "    }\n",
       "\n",
       "    .dataframe tbody tr th {\n",
       "        vertical-align: top;\n",
       "    }\n",
       "\n",
       "    .dataframe thead th {\n",
       "        text-align: right;\n",
       "    }\n",
       "</style>\n",
       "<table border=\"1\" class=\"dataframe\">\n",
       "  <thead>\n",
       "    <tr style=\"text-align: right;\">\n",
       "      <th></th>\n",
       "      <th>REG_YYMM</th>\n",
       "      <th>CARD_SIDO_NM</th>\n",
       "      <th>CARD_CCG_NM</th>\n",
       "      <th>STD_CLSS_NM</th>\n",
       "      <th>HOM_SIDO_NM</th>\n",
       "      <th>HOM_CCG_NM</th>\n",
       "      <th>AGE</th>\n",
       "      <th>SEX_CTGO_CD</th>\n",
       "      <th>FLC</th>\n",
       "      <th>CSTMR_CNT</th>\n",
       "      <th>AMT</th>\n",
       "      <th>CNT</th>\n",
       "    </tr>\n",
       "  </thead>\n",
       "  <tbody>\n",
       "    <tr>\n",
       "      <td>0</td>\n",
       "      <td>201901</td>\n",
       "      <td>강원</td>\n",
       "      <td>강릉시</td>\n",
       "      <td>건강보조식품 소매업</td>\n",
       "      <td>강원</td>\n",
       "      <td>강릉시</td>\n",
       "      <td>20s</td>\n",
       "      <td>1</td>\n",
       "      <td>1</td>\n",
       "      <td>4</td>\n",
       "      <td>311200</td>\n",
       "      <td>4</td>\n",
       "    </tr>\n",
       "    <tr>\n",
       "      <td>1</td>\n",
       "      <td>201901</td>\n",
       "      <td>강원</td>\n",
       "      <td>강릉시</td>\n",
       "      <td>건강보조식품 소매업</td>\n",
       "      <td>강원</td>\n",
       "      <td>강릉시</td>\n",
       "      <td>30s</td>\n",
       "      <td>1</td>\n",
       "      <td>2</td>\n",
       "      <td>7</td>\n",
       "      <td>1374500</td>\n",
       "      <td>8</td>\n",
       "    </tr>\n",
       "    <tr>\n",
       "      <td>2</td>\n",
       "      <td>201901</td>\n",
       "      <td>강원</td>\n",
       "      <td>강릉시</td>\n",
       "      <td>건강보조식품 소매업</td>\n",
       "      <td>강원</td>\n",
       "      <td>강릉시</td>\n",
       "      <td>30s</td>\n",
       "      <td>2</td>\n",
       "      <td>2</td>\n",
       "      <td>6</td>\n",
       "      <td>818700</td>\n",
       "      <td>6</td>\n",
       "    </tr>\n",
       "    <tr>\n",
       "      <td>3</td>\n",
       "      <td>201901</td>\n",
       "      <td>강원</td>\n",
       "      <td>강릉시</td>\n",
       "      <td>건강보조식품 소매업</td>\n",
       "      <td>강원</td>\n",
       "      <td>강릉시</td>\n",
       "      <td>40s</td>\n",
       "      <td>1</td>\n",
       "      <td>3</td>\n",
       "      <td>4</td>\n",
       "      <td>1717000</td>\n",
       "      <td>5</td>\n",
       "    </tr>\n",
       "    <tr>\n",
       "      <td>4</td>\n",
       "      <td>201901</td>\n",
       "      <td>강원</td>\n",
       "      <td>강릉시</td>\n",
       "      <td>건강보조식품 소매업</td>\n",
       "      <td>강원</td>\n",
       "      <td>강릉시</td>\n",
       "      <td>40s</td>\n",
       "      <td>1</td>\n",
       "      <td>4</td>\n",
       "      <td>3</td>\n",
       "      <td>1047300</td>\n",
       "      <td>3</td>\n",
       "    </tr>\n",
       "  </tbody>\n",
       "</table>\n",
       "</div>"
      ],
      "text/plain": [
       "   REG_YYMM CARD_SIDO_NM CARD_CCG_NM STD_CLSS_NM HOM_SIDO_NM HOM_CCG_NM  AGE  \\\n",
       "0    201901           강원         강릉시  건강보조식품 소매업          강원        강릉시  20s   \n",
       "1    201901           강원         강릉시  건강보조식품 소매업          강원        강릉시  30s   \n",
       "2    201901           강원         강릉시  건강보조식품 소매업          강원        강릉시  30s   \n",
       "3    201901           강원         강릉시  건강보조식품 소매업          강원        강릉시  40s   \n",
       "4    201901           강원         강릉시  건강보조식품 소매업          강원        강릉시  40s   \n",
       "\n",
       "   SEX_CTGO_CD  FLC  CSTMR_CNT      AMT  CNT  \n",
       "0            1    1          4   311200    4  \n",
       "1            1    2          7  1374500    8  \n",
       "2            2    2          6   818700    6  \n",
       "3            1    3          4  1717000    5  \n",
       "4            1    4          3  1047300    3  "
      ]
     },
     "execution_count": 4,
     "metadata": {},
     "output_type": "execute_result"
    }
   ],
   "source": [
    "data.head()"
   ]
  },
  {
   "cell_type": "code",
   "execution_count": 5,
   "metadata": {},
   "outputs": [
    {
     "data": {
      "text/plain": [
       "(24697792, 12)"
      ]
     },
     "execution_count": 5,
     "metadata": {},
     "output_type": "execute_result"
    }
   ],
   "source": [
    "data.shape"
   ]
  },
  {
   "cell_type": "markdown",
   "metadata": {},
   "source": [
    "전체 데이터 수는 24,697,792(약 2470만개)이며, 12개의 features를 갖는다."
   ]
  },
  {
   "cell_type": "markdown",
   "metadata": {},
   "source": [
    "### 전체 업종의 종류는?"
   ]
  },
  {
   "cell_type": "code",
   "execution_count": 6,
   "metadata": {
    "scrolled": false,
    "tags": []
   },
   "outputs": [
    {
     "name": "stdout",
     "output_type": "stream",
     "text": [
      "['건강보조식품 소매업' '골프장 운영업' '과실 및 채소 소매업' '관광 민예품 및 선물용품 소매업'\n",
      " '그외 기타 스포츠시설 운영업' '그외 기타 종합 소매업' '기타 대형 종합 소매업' '기타 외국식 음식점업' '기타 주점업'\n",
      " '기타음식료품위주종합소매업' '마사지업' '비알콜 음료점업' '빵 및 과자류 소매업' '서양식 음식점업' '수산물 소매업'\n",
      " '슈퍼마켓' '스포츠 및 레크레이션 용품 임대업' '여관업' '욕탕업' '육류 소매업' '일반유흥 주점업' '일식 음식점업'\n",
      " '전시 및 행사 대행업' '중식 음식점업' '차량용 가스 충전업' '차량용 주유소 운영업' '체인화 편의점'\n",
      " '피자 햄버거 샌드위치 및 유사 음식점업' '한식 음식점업' '호텔업' '화장품 및 방향제 소매업' '휴양콘도 운영업' '여행사업'\n",
      " '자동차 임대업' '면세점' '버스 운송업' '택시 운송업' '기타 수상오락 서비스업' '내항 여객 운송업'\n",
      " '그외 기타 분류안된 오락관련 서비스업' '정기 항공 운송업'] \n",
      "\n",
      "\n",
      "업종의 종류는 41개 이다.\n"
     ]
    }
   ],
   "source": [
    "print(data.STD_CLSS_NM.unique(),'\\n\\n')\n",
    "print(f'업종의 종류는 {len(data.STD_CLSS_NM.unique())}개 이다.')"
   ]
  },
  {
   "cell_type": "markdown",
   "metadata": {},
   "source": [
    "### 업종별 비율은?"
   ]
  },
  {
   "cell_type": "code",
   "execution_count": 7,
   "metadata": {
    "scrolled": false
   },
   "outputs": [
    {
     "data": {
      "text/html": [
       "<div>\n",
       "<style scoped>\n",
       "    .dataframe tbody tr th:only-of-type {\n",
       "        vertical-align: middle;\n",
       "    }\n",
       "\n",
       "    .dataframe tbody tr th {\n",
       "        vertical-align: top;\n",
       "    }\n",
       "\n",
       "    .dataframe thead th {\n",
       "        text-align: right;\n",
       "    }\n",
       "</style>\n",
       "<table border=\"1\" class=\"dataframe\">\n",
       "  <thead>\n",
       "    <tr style=\"text-align: right;\">\n",
       "      <th></th>\n",
       "      <th>STD_CLSS_NM</th>\n",
       "      <th>ratio</th>\n",
       "      <th>percentage</th>\n",
       "      <th>AMT</th>\n",
       "    </tr>\n",
       "    <tr>\n",
       "      <th>STD_CLSS_NM</th>\n",
       "      <th></th>\n",
       "      <th></th>\n",
       "      <th></th>\n",
       "      <th></th>\n",
       "    </tr>\n",
       "  </thead>\n",
       "  <tbody>\n",
       "    <tr>\n",
       "      <td>한식 음식점업</td>\n",
       "      <td>3697166</td>\n",
       "      <td>0.149696</td>\n",
       "      <td>14.969622</td>\n",
       "      <td>13737489719551</td>\n",
       "    </tr>\n",
       "    <tr>\n",
       "      <td>체인화 편의점</td>\n",
       "      <td>3210466</td>\n",
       "      <td>0.129990</td>\n",
       "      <td>12.999000</td>\n",
       "      <td>5303958703193</td>\n",
       "    </tr>\n",
       "    <tr>\n",
       "      <td>슈퍼마켓</td>\n",
       "      <td>1630700</td>\n",
       "      <td>0.066026</td>\n",
       "      <td>6.602615</td>\n",
       "      <td>6730329364274</td>\n",
       "    </tr>\n",
       "    <tr>\n",
       "      <td>차량용 주유소 운영업</td>\n",
       "      <td>1613476</td>\n",
       "      <td>0.065329</td>\n",
       "      <td>6.532875</td>\n",
       "      <td>7708652073883</td>\n",
       "    </tr>\n",
       "    <tr>\n",
       "      <td>비알콜 음료점업</td>\n",
       "      <td>1586120</td>\n",
       "      <td>0.064221</td>\n",
       "      <td>6.422113</td>\n",
       "      <td>1143497863742</td>\n",
       "    </tr>\n",
       "    <tr>\n",
       "      <td>기타 대형 종합 소매업</td>\n",
       "      <td>1495163</td>\n",
       "      <td>0.060538</td>\n",
       "      <td>6.053833</td>\n",
       "      <td>7328854819388</td>\n",
       "    </tr>\n",
       "    <tr>\n",
       "      <td>서양식 음식점업</td>\n",
       "      <td>1404839</td>\n",
       "      <td>0.056881</td>\n",
       "      <td>5.688116</td>\n",
       "      <td>1748358904526</td>\n",
       "    </tr>\n",
       "    <tr>\n",
       "      <td>피자 햄버거 샌드위치 및 유사 음식점업</td>\n",
       "      <td>1351478</td>\n",
       "      <td>0.054721</td>\n",
       "      <td>5.472060</td>\n",
       "      <td>1100581283937</td>\n",
       "    </tr>\n",
       "    <tr>\n",
       "      <td>빵 및 과자류 소매업</td>\n",
       "      <td>989794</td>\n",
       "      <td>0.040076</td>\n",
       "      <td>4.007621</td>\n",
       "      <td>893591674917</td>\n",
       "    </tr>\n",
       "    <tr>\n",
       "      <td>중식 음식점업</td>\n",
       "      <td>698803</td>\n",
       "      <td>0.028294</td>\n",
       "      <td>2.829415</td>\n",
       "      <td>952361423580</td>\n",
       "    </tr>\n",
       "    <tr>\n",
       "      <td>기타음식료품위주종합소매업</td>\n",
       "      <td>558716</td>\n",
       "      <td>0.022622</td>\n",
       "      <td>2.262210</td>\n",
       "      <td>1569246626978</td>\n",
       "    </tr>\n",
       "    <tr>\n",
       "      <td>기타 외국식 음식점업</td>\n",
       "      <td>556813</td>\n",
       "      <td>0.022545</td>\n",
       "      <td>2.254505</td>\n",
       "      <td>623167678948</td>\n",
       "    </tr>\n",
       "    <tr>\n",
       "      <td>일식 음식점업</td>\n",
       "      <td>539071</td>\n",
       "      <td>0.021827</td>\n",
       "      <td>2.182669</td>\n",
       "      <td>792341708115</td>\n",
       "    </tr>\n",
       "    <tr>\n",
       "      <td>과실 및 채소 소매업</td>\n",
       "      <td>504479</td>\n",
       "      <td>0.020426</td>\n",
       "      <td>2.042608</td>\n",
       "      <td>618928801283</td>\n",
       "    </tr>\n",
       "    <tr>\n",
       "      <td>스포츠 및 레크레이션 용품 임대업</td>\n",
       "      <td>466533</td>\n",
       "      <td>0.018890</td>\n",
       "      <td>1.888966</td>\n",
       "      <td>1245725426753</td>\n",
       "    </tr>\n",
       "    <tr>\n",
       "      <td>화장품 및 방향제 소매업</td>\n",
       "      <td>383713</td>\n",
       "      <td>0.015536</td>\n",
       "      <td>1.553633</td>\n",
       "      <td>639380260823</td>\n",
       "    </tr>\n",
       "    <tr>\n",
       "      <td>택시 운송업</td>\n",
       "      <td>381993</td>\n",
       "      <td>0.015467</td>\n",
       "      <td>1.546669</td>\n",
       "      <td>1733409541974</td>\n",
       "    </tr>\n",
       "    <tr>\n",
       "      <td>그외 기타 종합 소매업</td>\n",
       "      <td>351817</td>\n",
       "      <td>0.014245</td>\n",
       "      <td>1.424488</td>\n",
       "      <td>1025691118171</td>\n",
       "    </tr>\n",
       "    <tr>\n",
       "      <td>여관업</td>\n",
       "      <td>334994</td>\n",
       "      <td>0.013564</td>\n",
       "      <td>1.356372</td>\n",
       "      <td>258904036530</td>\n",
       "    </tr>\n",
       "    <tr>\n",
       "      <td>전시 및 행사 대행업</td>\n",
       "      <td>330569</td>\n",
       "      <td>0.013385</td>\n",
       "      <td>1.338456</td>\n",
       "      <td>104507444246</td>\n",
       "    </tr>\n",
       "    <tr>\n",
       "      <td>육류 소매업</td>\n",
       "      <td>327160</td>\n",
       "      <td>0.013247</td>\n",
       "      <td>1.324653</td>\n",
       "      <td>1166039087386</td>\n",
       "    </tr>\n",
       "    <tr>\n",
       "      <td>욕탕업</td>\n",
       "      <td>259567</td>\n",
       "      <td>0.010510</td>\n",
       "      <td>1.050972</td>\n",
       "      <td>190084640107</td>\n",
       "    </tr>\n",
       "    <tr>\n",
       "      <td>수산물 소매업</td>\n",
       "      <td>255488</td>\n",
       "      <td>0.010345</td>\n",
       "      <td>1.034457</td>\n",
       "      <td>297031773253</td>\n",
       "    </tr>\n",
       "    <tr>\n",
       "      <td>골프장 운영업</td>\n",
       "      <td>236554</td>\n",
       "      <td>0.009578</td>\n",
       "      <td>0.957794</td>\n",
       "      <td>595701968828</td>\n",
       "    </tr>\n",
       "    <tr>\n",
       "      <td>차량용 가스 충전업</td>\n",
       "      <td>218242</td>\n",
       "      <td>0.008836</td>\n",
       "      <td>0.883650</td>\n",
       "      <td>237066002143</td>\n",
       "    </tr>\n",
       "    <tr>\n",
       "      <td>버스 운송업</td>\n",
       "      <td>192281</td>\n",
       "      <td>0.007785</td>\n",
       "      <td>0.778535</td>\n",
       "      <td>230236675997</td>\n",
       "    </tr>\n",
       "    <tr>\n",
       "      <td>일반유흥 주점업</td>\n",
       "      <td>174081</td>\n",
       "      <td>0.007048</td>\n",
       "      <td>0.704844</td>\n",
       "      <td>541315173187</td>\n",
       "    </tr>\n",
       "    <tr>\n",
       "      <td>호텔업</td>\n",
       "      <td>155309</td>\n",
       "      <td>0.006288</td>\n",
       "      <td>0.628838</td>\n",
       "      <td>225020352517</td>\n",
       "    </tr>\n",
       "    <tr>\n",
       "      <td>면세점</td>\n",
       "      <td>144349</td>\n",
       "      <td>0.005845</td>\n",
       "      <td>0.584461</td>\n",
       "      <td>404512192532</td>\n",
       "    </tr>\n",
       "    <tr>\n",
       "      <td>정기 항공 운송업</td>\n",
       "      <td>115914</td>\n",
       "      <td>0.004693</td>\n",
       "      <td>0.469329</td>\n",
       "      <td>581098689779</td>\n",
       "    </tr>\n",
       "    <tr>\n",
       "      <td>휴양콘도 운영업</td>\n",
       "      <td>114921</td>\n",
       "      <td>0.004653</td>\n",
       "      <td>0.465309</td>\n",
       "      <td>79881859506</td>\n",
       "    </tr>\n",
       "    <tr>\n",
       "      <td>건강보조식품 소매업</td>\n",
       "      <td>83857</td>\n",
       "      <td>0.003395</td>\n",
       "      <td>0.339532</td>\n",
       "      <td>105126364380</td>\n",
       "    </tr>\n",
       "    <tr>\n",
       "      <td>관광 민예품 및 선물용품 소매업</td>\n",
       "      <td>78793</td>\n",
       "      <td>0.003190</td>\n",
       "      <td>0.319029</td>\n",
       "      <td>15129406137</td>\n",
       "    </tr>\n",
       "    <tr>\n",
       "      <td>기타 주점업</td>\n",
       "      <td>73244</td>\n",
       "      <td>0.002966</td>\n",
       "      <td>0.296561</td>\n",
       "      <td>164753620805</td>\n",
       "    </tr>\n",
       "    <tr>\n",
       "      <td>내항 여객 운송업</td>\n",
       "      <td>72294</td>\n",
       "      <td>0.002927</td>\n",
       "      <td>0.292714</td>\n",
       "      <td>42015061681</td>\n",
       "    </tr>\n",
       "    <tr>\n",
       "      <td>여행사업</td>\n",
       "      <td>47446</td>\n",
       "      <td>0.001921</td>\n",
       "      <td>0.192106</td>\n",
       "      <td>109016697282</td>\n",
       "    </tr>\n",
       "    <tr>\n",
       "      <td>자동차 임대업</td>\n",
       "      <td>26024</td>\n",
       "      <td>0.001054</td>\n",
       "      <td>0.105370</td>\n",
       "      <td>28378647000</td>\n",
       "    </tr>\n",
       "    <tr>\n",
       "      <td>마사지업</td>\n",
       "      <td>17844</td>\n",
       "      <td>0.000722</td>\n",
       "      <td>0.072249</td>\n",
       "      <td>20199890964</td>\n",
       "    </tr>\n",
       "    <tr>\n",
       "      <td>그외 기타 스포츠시설 운영업</td>\n",
       "      <td>11077</td>\n",
       "      <td>0.000449</td>\n",
       "      <td>0.044850</td>\n",
       "      <td>2731915234</td>\n",
       "    </tr>\n",
       "    <tr>\n",
       "      <td>기타 수상오락 서비스업</td>\n",
       "      <td>6356</td>\n",
       "      <td>0.000257</td>\n",
       "      <td>0.025735</td>\n",
       "      <td>1671308986</td>\n",
       "    </tr>\n",
       "    <tr>\n",
       "      <td>그외 기타 분류안된 오락관련 서비스업</td>\n",
       "      <td>288</td>\n",
       "      <td>0.000012</td>\n",
       "      <td>0.001166</td>\n",
       "      <td>37246490</td>\n",
       "    </tr>\n",
       "  </tbody>\n",
       "</table>\n",
       "</div>"
      ],
      "text/plain": [
       "                       STD_CLSS_NM     ratio  percentage             AMT\n",
       "STD_CLSS_NM                                                             \n",
       "한식 음식점업                    3697166  0.149696   14.969622  13737489719551\n",
       "체인화 편의점                    3210466  0.129990   12.999000   5303958703193\n",
       "슈퍼마켓                       1630700  0.066026    6.602615   6730329364274\n",
       "차량용 주유소 운영업                1613476  0.065329    6.532875   7708652073883\n",
       "비알콜 음료점업                   1586120  0.064221    6.422113   1143497863742\n",
       "기타 대형 종합 소매업               1495163  0.060538    6.053833   7328854819388\n",
       "서양식 음식점업                   1404839  0.056881    5.688116   1748358904526\n",
       "피자 햄버거 샌드위치 및 유사 음식점업      1351478  0.054721    5.472060   1100581283937\n",
       "빵 및 과자류 소매업                 989794  0.040076    4.007621    893591674917\n",
       "중식 음식점업                     698803  0.028294    2.829415    952361423580\n",
       "기타음식료품위주종합소매업               558716  0.022622    2.262210   1569246626978\n",
       "기타 외국식 음식점업                 556813  0.022545    2.254505    623167678948\n",
       "일식 음식점업                     539071  0.021827    2.182669    792341708115\n",
       "과실 및 채소 소매업                 504479  0.020426    2.042608    618928801283\n",
       "스포츠 및 레크레이션 용품 임대업          466533  0.018890    1.888966   1245725426753\n",
       "화장품 및 방향제 소매업               383713  0.015536    1.553633    639380260823\n",
       "택시 운송업                      381993  0.015467    1.546669   1733409541974\n",
       "그외 기타 종합 소매업                351817  0.014245    1.424488   1025691118171\n",
       "여관업                         334994  0.013564    1.356372    258904036530\n",
       "전시 및 행사 대행업                 330569  0.013385    1.338456    104507444246\n",
       "육류 소매업                      327160  0.013247    1.324653   1166039087386\n",
       "욕탕업                         259567  0.010510    1.050972    190084640107\n",
       "수산물 소매업                     255488  0.010345    1.034457    297031773253\n",
       "골프장 운영업                     236554  0.009578    0.957794    595701968828\n",
       "차량용 가스 충전업                  218242  0.008836    0.883650    237066002143\n",
       "버스 운송업                      192281  0.007785    0.778535    230236675997\n",
       "일반유흥 주점업                    174081  0.007048    0.704844    541315173187\n",
       "호텔업                         155309  0.006288    0.628838    225020352517\n",
       "면세점                         144349  0.005845    0.584461    404512192532\n",
       "정기 항공 운송업                   115914  0.004693    0.469329    581098689779\n",
       "휴양콘도 운영업                    114921  0.004653    0.465309     79881859506\n",
       "건강보조식품 소매업                   83857  0.003395    0.339532    105126364380\n",
       "관광 민예품 및 선물용품 소매업            78793  0.003190    0.319029     15129406137\n",
       "기타 주점업                       73244  0.002966    0.296561    164753620805\n",
       "내항 여객 운송업                    72294  0.002927    0.292714     42015061681\n",
       "여행사업                         47446  0.001921    0.192106    109016697282\n",
       "자동차 임대업                      26024  0.001054    0.105370     28378647000\n",
       "마사지업                         17844  0.000722    0.072249     20199890964\n",
       "그외 기타 스포츠시설 운영업              11077  0.000449    0.044850      2731915234\n",
       "기타 수상오락 서비스업                  6356  0.000257    0.025735      1671308986\n",
       "그외 기타 분류안된 오락관련 서비스업           288  0.000012    0.001166        37246490"
      ]
     },
     "execution_count": 7,
     "metadata": {},
     "output_type": "execute_result"
    }
   ],
   "source": [
    "grupby_clss = data.loc[:,['STD_CLSS_NM', 'AMT']].groupby('STD_CLSS_NM')\n",
    "\n",
    "clss = pd.DataFrame(grupby_clss['STD_CLSS_NM'].count())\n",
    "clss['ratio'] = clss.STD_CLSS_NM / len(data)\n",
    "clss['percentage'] = clss['ratio'] * 100\n",
    "clss = clss.sort_values('percentage', ascending = False)\n",
    "\n",
    "clss['AMT'] = grupby_clss.sum()\n",
    "clss\n",
    "## 업종별 금액의 비율을 합쳐서 표현해보기"
   ]
  },
  {
   "cell_type": "code",
   "execution_count": 8,
   "metadata": {},
   "outputs": [
    {
     "data": {
      "image/png": "[encoded data removed]",
      "text/plain": [
       "<Figure size 1080x504 with 1 Axes>"
      ]
     },
     "metadata": {
      "needs_background": "light"
     },
     "output_type": "display_data"
    }
   ],
   "source": [
    "plt.figure(figsize = (15,7))\n",
    "sns.barplot(clss.index, clss.percentage)\n",
    "plt.title('size of classes')\n",
    "plt.xticks(rotation= 90)\n",
    "plt.show()"
   ]
  },
  {
   "cell_type": "code",
   "execution_count": 9,
   "metadata": {},
   "outputs": [
    {
     "data": {
      "text/plain": [
       "10173"
      ]
     },
     "execution_count": 9,
     "metadata": {},
     "output_type": "execute_result"
    }
   ],
   "source": [
    "del grupby_clss\n",
    "del clss\n",
    "gc.collect()"
   ]
  },
  {
   "cell_type": "markdown",
   "metadata": {},
   "source": [
    "# 시각화"
   ]
  },
  {
   "cell_type": "markdown",
   "metadata": {},
   "source": [
    "### 지역, 업종별 매출을 월별로 시각화\n"
   ]
  },
  {
   "cell_type": "code",
   "execution_count": 10,
   "metadata": {
    "scrolled": true
   },
   "outputs": [
    {
     "name": "stdout",
     "output_type": "stream",
     "text": [
      "강원 면세점\n",
      "강원 버스 운송업\n",
      "강원 택시 운송업\n",
      "강원 그외 기타 분류안된 오락관련 서비스업\n"
     ]
    },
    {
     "data": {
      "image/png": "[encoded data removed]",
      "text/plain": [
       "<Figure size 360x360 with 1 Axes>"
      ]
     },
     "metadata": {
      "needs_background": "light"
     },
     "output_type": "display_data"
    },
    {
     "name": "stdout",
     "output_type": "stream",
     "text": [
      "경기 내항 여객 운송업\n",
      "경기 그외 기타 분류안된 오락관련 서비스업\n"
     ]
    },
    {
     "data": {
      "image/png": "[encoded data removed]",
      "text/plain": [
       "<Figure size 360x360 with 1 Axes>"
      ]
     },
     "metadata": {
      "needs_background": "light"
     },
     "output_type": "display_data"
    },
    {
     "name": "stdout",
     "output_type": "stream",
     "text": [
      "경남 자동차 임대업\n"
     ]
    },
    {
     "data": {
      "image/png": "[encoded data removed]",
      "text/plain": [
       "<Figure size 360x360 with 1 Axes>"
      ]
     },
     "metadata": {
      "needs_background": "light"
     },
     "output_type": "display_data"
    },
    {
     "name": "stdout",
     "output_type": "stream",
     "text": [
      "경북 그외 기타 분류안된 오락관련 서비스업\n",
      "경북 여행사업\n",
      "경북 내항 여객 운송업\n",
      "경북 버스 운송업\n"
     ]
    },
    {
     "data": {
      "image/png": "[encoded data removed]",
      "text/plain": [
       "<Figure size 360x360 with 1 Axes>"
      ]
     },
     "metadata": {
      "needs_background": "light"
     },
     "output_type": "display_data"
    },
    {
     "name": "stdout",
     "output_type": "stream",
     "text": [
      "광주 기타 수상오락 서비스업\n",
      "광주 내항 여객 운송업\n",
      "광주 여행사업\n",
      "광주 택시 운송업\n"
     ]
    },
    {
     "data": {
      "image/png": "[encoded data removed]",
      "text/plain": [
       "<Figure size 360x360 with 1 Axes>"
      ]
     },
     "metadata": {
      "needs_background": "light"
     },
     "output_type": "display_data"
    },
    {
     "name": "stdout",
     "output_type": "stream",
     "text": [
      "대구 여행사업\n",
      "대구 버스 운송업\n",
      "대구 면세점\n"
     ]
    },
    {
     "data": {
      "image/png": "[encoded data removed]",
      "text/plain": [
       "<Figure size 360x360 with 1 Axes>"
      ]
     },
     "metadata": {
      "needs_background": "light"
     },
     "output_type": "display_data"
    },
    {
     "name": "stdout",
     "output_type": "stream",
     "text": [
      "대전 기타 수상오락 서비스업\n",
      "대전 자동차 임대업\n",
      "대전 여행사업\n"
     ]
    },
    {
     "data": {
      "image/png": "[encoded data removed]",
      "text/plain": [
       "<Figure size 360x360 with 1 Axes>"
      ]
     },
     "metadata": {
      "needs_background": "light"
     },
     "output_type": "display_data"
    },
    {
     "name": "stdout",
     "output_type": "stream",
     "text": [
      "부산 내항 여객 운송업\n"
     ]
    },
    {
     "data": {
      "image/png": "[encoded data removed]",
      "text/plain": [
       "<Figure size 360x360 with 1 Axes>"
      ]
     },
     "metadata": {
      "needs_background": "light"
     },
     "output_type": "display_data"
    },
    {
     "data": {
      "image/png": "[encoded data removed]",
      "text/plain": [
       "<Figure size 360x360 with 1 Axes>"
      ]
     },
     "metadata": {
      "needs_background": "light"
     },
     "output_type": "display_data"
    },
    {
     "name": "stdout",
     "output_type": "stream",
     "text": [
      "세종 관광 민예품 및 선물용품 소매업\n",
      "세종 기타 수상오락 서비스업\n",
      "세종 그외 기타 분류안된 오락관련 서비스업\n",
      "세종 그외 기타 스포츠시설 운영업\n"
     ]
    },
    {
     "data": {
      "image/png": "[encoded data removed]",
      "text/plain": [
       "<Figure size 360x360 with 1 Axes>"
      ]
     },
     "metadata": {
      "needs_background": "light"
     },
     "output_type": "display_data"
    },
    {
     "name": "stdout",
     "output_type": "stream",
     "text": [
      "울산 기타 수상오락 서비스업\n",
      "울산 면세점\n",
      "울산 그외 기타 분류안된 오락관련 서비스업\n",
      "울산 택시 운송업\n"
     ]
    },
    {
     "data": {
      "image/png": "[encoded data removed]",
      "text/plain": [
       "<Figure size 360x360 with 1 Axes>"
      ]
     },
     "metadata": {
      "needs_background": "light"
     },
     "output_type": "display_data"
    },
    {
     "name": "stdout",
     "output_type": "stream",
     "text": [
      "인천 자동차 임대업\n"
     ]
    },
    {
     "data": {
      "image/png": "[encoded data removed]",
      "text/plain": [
       "<Figure size 360x360 with 1 Axes>"
      ]
     },
     "metadata": {
      "needs_background": "light"
     },
     "output_type": "display_data"
    },
    {
     "name": "stdout",
     "output_type": "stream",
     "text": [
      "전남 면세점\n",
      "전남 그외 기타 분류안된 오락관련 서비스업\n",
      "전남 택시 운송업\n",
      "전남 기타 수상오락 서비스업\n"
     ]
    },
    {
     "data": {
      "image/png": "[encoded data removed]",
      "text/plain": [
       "<Figure size 360x360 with 1 Axes>"
      ]
     },
     "metadata": {
      "needs_background": "light"
     },
     "output_type": "display_data"
    },
    {
     "name": "stdout",
     "output_type": "stream",
     "text": [
      "전북 내항 여객 운송업\n",
      "전북 호텔업\n",
      "전북 버스 운송업\n",
      "전북 기타 수상오락 서비스업\n"
     ]
    },
    {
     "data": {
      "image/png": "[encoded data removed]",
      "text/plain": [
       "<Figure size 360x360 with 1 Axes>"
      ]
     },
     "metadata": {
      "needs_background": "light"
     },
     "output_type": "display_data"
    },
    {
     "name": "stdout",
     "output_type": "stream",
     "text": [
      "제주 그외 기타 스포츠시설 운영업\n",
      "제주 기타 수상오락 서비스업\n",
      "제주 그외 기타 분류안된 오락관련 서비스업\n",
      "제주 택시 운송업\n"
     ]
    },
    {
     "data": {
      "image/png": "[encoded data removed]",
      "text/plain": [
       "<Figure size 360x360 with 1 Axes>"
      ]
     },
     "metadata": {
      "needs_background": "light"
     },
     "output_type": "display_data"
    },
    {
     "name": "stdout",
     "output_type": "stream",
     "text": [
      "충남 내항 여객 운송업\n",
      "충남 택시 운송업\n",
      "충남 자동차 임대업\n",
      "충남 정기 항공 운송업\n",
      "충남 버스 운송업\n"
     ]
    },
    {
     "data": {
      "image/png": "[encoded data removed]",
      "text/plain": [
       "<Figure size 360x360 with 1 Axes>"
      ]
     },
     "metadata": {
      "needs_background": "light"
     },
     "output_type": "display_data"
    },
    {
     "name": "stdout",
     "output_type": "stream",
     "text": [
      "충북 자동차 임대업\n",
      "충북 면세점\n",
      "충북 버스 운송업\n",
      "충북 내항 여객 운송업\n",
      "충북 여행사업\n"
     ]
    },
    {
     "data": {
      "image/png": "[encoded data removed]",
      "text/plain": [
       "<Figure size 360x360 with 1 Axes>"
      ]
     },
     "metadata": {
      "needs_background": "light"
     },
     "output_type": "display_data"
    }
   ],
   "source": [
    "group_data = data.loc[:,['CARD_SIDO_NM', 'STD_CLSS_NM','REG_YYMM', 'AMT']].groupby(['CARD_SIDO_NM', 'STD_CLSS_NM','REG_YYMM']).sum()\n",
    "\n",
    "days = group_data.reset_index()['REG_YYMM'].unique().astype('str')\n",
    "days # REG_YYMM를 string으로 변환\n",
    "\n",
    "citys = data.CARD_SIDO_NM.unique()\n",
    "# citys : 지역(시도)의 이름들을 list로 저장\n",
    "\n",
    "\n",
    "for city in citys:\n",
    "    # 지역별로 figure생성\n",
    "    plt.figure(figsize = (5,5))\n",
    "    clsses = data[data.CARD_SIDO_NM == city].STD_CLSS_NM.unique()\n",
    "    # 특정지역에서는 업종이 없는 경우도 있음.\n",
    "    # 지역별로 업종 list를 새로 생성\n",
    "    for clss in clsses:\n",
    "        #업종별로 barplot 그리기 : x축은 날짜, y축은 해당 업종, 지역의 AMT 총합\n",
    "        y = group_data.loc[city, clss,:].values.reshape(-1)\n",
    "        #print(len(y), len(days))\n",
    "        if len(y) == len(days):\n",
    "            plt.bar(days, y, alpha = 0.5, label = city) \n",
    "        else:\n",
    "            print(city, clss) # 월별데이터가 모두 없는 경우는 plot에서 제외하고 print\n",
    "        plt.xticks(rotation= 45)\n",
    "    plt.title(city)\n",
    "    plt.show()\n",
    "    #break\n",
    "    "
   ]
  },
  {
   "cell_type": "code",
   "execution_count": 11,
   "metadata": {},
   "outputs": [
    {
     "data": {
      "text/plain": [
       "76176"
      ]
     },
     "execution_count": 11,
     "metadata": {},
     "output_type": "execute_result"
    }
   ],
   "source": [
    "del group_data\n",
    "gc.collect()"
   ]
  },
  {
   "cell_type": "markdown",
   "metadata": {},
   "source": [
    "# 예측 모형 만들기\n",
    "### 지역과 업종별로 새롭게 계산한 Cov 변수를 적용하여 예측하기\n",
    "1. group_city_clss_time, group_city_clss 만들기\n",
    "2. m1_m4_ratio, cov_ratio 계산하기\n",
    "\n",
    "\n",
    "\n",
    "1. 20년1월 * (19년4월 / 19년1월) => 예측_20년4월(non_cov)\n",
    "2. mean(20년2월/19년2월, 20년3월/19년3월) => 예측_con_ratio \n",
    "3. 예측_20년4월(non_cov) * 예측_con_ratio  => 예측_20년4월(cov)"
   ]
  },
  {
   "cell_type": "markdown",
   "metadata": {},
   "source": [
    "## 1. group_city_clss_time, group_city_clss 만들기\n",
    "\n",
    "* group_city_clss_time : (도시, 업종, 월별)을 기준으로 groupby\n",
    "* group_city_clss : (도시, 업종)을 기준으로 groupby"
   ]
  },
  {
   "cell_type": "markdown",
   "metadata": {},
   "source": [
    "### 1) group_city_clss_time"
   ]
  },
  {
   "cell_type": "code",
   "execution_count": 12,
   "metadata": {
    "scrolled": false
   },
   "outputs": [
    {
     "data": {
      "text/html": [
       "<div>\n",
       "<style scoped>\n",
       "    .dataframe tbody tr th:only-of-type {\n",
       "        vertical-align: middle;\n",
       "    }\n",
       "\n",
       "    .dataframe tbody tr th {\n",
       "        vertical-align: top;\n",
       "    }\n",
       "\n",
       "    .dataframe thead th {\n",
       "        text-align: right;\n",
       "    }\n",
       "</style>\n",
       "<table border=\"1\" class=\"dataframe\">\n",
       "  <thead>\n",
       "    <tr style=\"text-align: right;\">\n",
       "      <th></th>\n",
       "      <th></th>\n",
       "      <th></th>\n",
       "      <th>AMT</th>\n",
       "    </tr>\n",
       "    <tr>\n",
       "      <th>CARD_SIDO_NM</th>\n",
       "      <th>STD_CLSS_NM</th>\n",
       "      <th>REG_YYMM</th>\n",
       "      <th></th>\n",
       "    </tr>\n",
       "  </thead>\n",
       "  <tbody>\n",
       "    <tr>\n",
       "      <td rowspan=\"5\" valign=\"top\">강원</td>\n",
       "      <td rowspan=\"5\" valign=\"top\">건강보조식품 소매업</td>\n",
       "      <td>201901</td>\n",
       "      <td>148354746</td>\n",
       "    </tr>\n",
       "    <tr>\n",
       "      <td>201902</td>\n",
       "      <td>146715871</td>\n",
       "    </tr>\n",
       "    <tr>\n",
       "      <td>201903</td>\n",
       "      <td>109439025</td>\n",
       "    </tr>\n",
       "    <tr>\n",
       "      <td>201904</td>\n",
       "      <td>106548473</td>\n",
       "    </tr>\n",
       "    <tr>\n",
       "      <td>201905</td>\n",
       "      <td>148115738</td>\n",
       "    </tr>\n",
       "    <tr>\n",
       "      <td>...</td>\n",
       "      <td>...</td>\n",
       "      <td>...</td>\n",
       "      <td>...</td>\n",
       "    </tr>\n",
       "    <tr>\n",
       "      <td rowspan=\"5\" valign=\"top\">충북</td>\n",
       "      <td rowspan=\"5\" valign=\"top\">휴양콘도 운영업</td>\n",
       "      <td>201911</td>\n",
       "      <td>124117555</td>\n",
       "    </tr>\n",
       "    <tr>\n",
       "      <td>201912</td>\n",
       "      <td>139568962</td>\n",
       "    </tr>\n",
       "    <tr>\n",
       "      <td>202001</td>\n",
       "      <td>222073112</td>\n",
       "    </tr>\n",
       "    <tr>\n",
       "      <td>202002</td>\n",
       "      <td>47085830</td>\n",
       "    </tr>\n",
       "    <tr>\n",
       "      <td>202003</td>\n",
       "      <td>12733490</td>\n",
       "    </tr>\n",
       "  </tbody>\n",
       "</table>\n",
       "<p>9438 rows × 1 columns</p>\n",
       "</div>"
      ],
      "text/plain": [
       "                                         AMT\n",
       "CARD_SIDO_NM STD_CLSS_NM REG_YYMM           \n",
       "강원           건강보조식품 소매업  201901    148354746\n",
       "                         201902    146715871\n",
       "                         201903    109439025\n",
       "                         201904    106548473\n",
       "                         201905    148115738\n",
       "...                                      ...\n",
       "충북           휴양콘도 운영업    201911    124117555\n",
       "                         201912    139568962\n",
       "                         202001    222073112\n",
       "                         202002     47085830\n",
       "                         202003     12733490\n",
       "\n",
       "[9438 rows x 1 columns]"
      ]
     },
     "execution_count": 12,
     "metadata": {},
     "output_type": "execute_result"
    }
   ],
   "source": [
    "# 데이터를 날짜, 도시, 업종으로 groupby\n",
    "# 인덱싱을 편하게 하기 위해 row를 CARD_SIDO_NM,\tSTD_CLSS_NM, REG_YYMM 3개의 level로 표현\n",
    "\n",
    "group_city_clss_time = data.loc[:, ['REG_YYMM', 'CARD_SIDO_NM', 'STD_CLSS_NM', 'AMT']]\\\n",
    "                           .groupby(['CARD_SIDO_NM', 'STD_CLSS_NM', 'REG_YYMM'])['AMT']\\\n",
    "                           .sum()\n",
    "\n",
    "group_city_clss_time = pd.DataFrame(group_city_clss_time)\n",
    "gc.collect()\n",
    "# group_data는 'AMT'하나만 column으로 갖는다.\n",
    "group_city_clss_time"
   ]
  },
  {
   "cell_type": "markdown",
   "metadata": {},
   "source": [
    "### 2) group_city_clss"
   ]
  },
  {
   "cell_type": "code",
   "execution_count": 13,
   "metadata": {
    "scrolled": false
   },
   "outputs": [
    {
     "data": {
      "text/html": [
       "<div>\n",
       "<style scoped>\n",
       "    .dataframe tbody tr th:only-of-type {\n",
       "        vertical-align: middle;\n",
       "    }\n",
       "\n",
       "    .dataframe tbody tr th {\n",
       "        vertical-align: top;\n",
       "    }\n",
       "\n",
       "    .dataframe thead th {\n",
       "        text-align: right;\n",
       "    }\n",
       "</style>\n",
       "<table border=\"1\" class=\"dataframe\">\n",
       "  <thead>\n",
       "    <tr style=\"text-align: right;\">\n",
       "      <th></th>\n",
       "      <th>CARD_SIDO_NM</th>\n",
       "      <th>STD_CLSS_NM</th>\n",
       "      <th>AMT</th>\n",
       "      <th>m1_m4_ratio</th>\n",
       "      <th>cov_ratio</th>\n",
       "    </tr>\n",
       "  </thead>\n",
       "  <tbody>\n",
       "    <tr>\n",
       "      <td>0</td>\n",
       "      <td>강원</td>\n",
       "      <td>건강보조식품 소매업</td>\n",
       "      <td>1820824382</td>\n",
       "      <td>0</td>\n",
       "      <td>0</td>\n",
       "    </tr>\n",
       "    <tr>\n",
       "      <td>1</td>\n",
       "      <td>강원</td>\n",
       "      <td>골프장 운영업</td>\n",
       "      <td>51290887138</td>\n",
       "      <td>0</td>\n",
       "      <td>0</td>\n",
       "    </tr>\n",
       "    <tr>\n",
       "      <td>2</td>\n",
       "      <td>강원</td>\n",
       "      <td>과실 및 채소 소매업</td>\n",
       "      <td>16675489268</td>\n",
       "      <td>0</td>\n",
       "      <td>0</td>\n",
       "    </tr>\n",
       "    <tr>\n",
       "      <td>3</td>\n",
       "      <td>강원</td>\n",
       "      <td>관광 민예품 및 선물용품 소매업</td>\n",
       "      <td>457212008</td>\n",
       "      <td>0</td>\n",
       "      <td>0</td>\n",
       "    </tr>\n",
       "    <tr>\n",
       "      <td>4</td>\n",
       "      <td>강원</td>\n",
       "      <td>그외 기타 분류안된 오락관련 서비스업</td>\n",
       "      <td>177000</td>\n",
       "      <td>0</td>\n",
       "      <td>0</td>\n",
       "    </tr>\n",
       "    <tr>\n",
       "      <td>...</td>\n",
       "      <td>...</td>\n",
       "      <td>...</td>\n",
       "      <td>...</td>\n",
       "      <td>...</td>\n",
       "      <td>...</td>\n",
       "    </tr>\n",
       "    <tr>\n",
       "      <td>645</td>\n",
       "      <td>충북</td>\n",
       "      <td>피자 햄버거 샌드위치 및 유사 음식점업</td>\n",
       "      <td>21294163365</td>\n",
       "      <td>0</td>\n",
       "      <td>0</td>\n",
       "    </tr>\n",
       "    <tr>\n",
       "      <td>646</td>\n",
       "      <td>충북</td>\n",
       "      <td>한식 음식점업</td>\n",
       "      <td>327145423793</td>\n",
       "      <td>0</td>\n",
       "      <td>0</td>\n",
       "    </tr>\n",
       "    <tr>\n",
       "      <td>647</td>\n",
       "      <td>충북</td>\n",
       "      <td>호텔업</td>\n",
       "      <td>530914357</td>\n",
       "      <td>0</td>\n",
       "      <td>0</td>\n",
       "    </tr>\n",
       "    <tr>\n",
       "      <td>648</td>\n",
       "      <td>충북</td>\n",
       "      <td>화장품 및 방향제 소매업</td>\n",
       "      <td>9175488855</td>\n",
       "      <td>0</td>\n",
       "      <td>0</td>\n",
       "    </tr>\n",
       "    <tr>\n",
       "      <td>649</td>\n",
       "      <td>충북</td>\n",
       "      <td>휴양콘도 운영업</td>\n",
       "      <td>2414736980</td>\n",
       "      <td>0</td>\n",
       "      <td>0</td>\n",
       "    </tr>\n",
       "  </tbody>\n",
       "</table>\n",
       "<p>650 rows × 5 columns</p>\n",
       "</div>"
      ],
      "text/plain": [
       "    CARD_SIDO_NM            STD_CLSS_NM           AMT  m1_m4_ratio  cov_ratio\n",
       "0             강원             건강보조식품 소매업    1820824382            0          0\n",
       "1             강원                골프장 운영업   51290887138            0          0\n",
       "2             강원            과실 및 채소 소매업   16675489268            0          0\n",
       "3             강원      관광 민예품 및 선물용품 소매업     457212008            0          0\n",
       "4             강원   그외 기타 분류안된 오락관련 서비스업        177000            0          0\n",
       "..           ...                    ...           ...          ...        ...\n",
       "645           충북  피자 햄버거 샌드위치 및 유사 음식점업   21294163365            0          0\n",
       "646           충북                한식 음식점업  327145423793            0          0\n",
       "647           충북                    호텔업     530914357            0          0\n",
       "648           충북          화장품 및 방향제 소매업    9175488855            0          0\n",
       "649           충북               휴양콘도 운영업    2414736980            0          0\n",
       "\n",
       "[650 rows x 5 columns]"
      ]
     },
     "execution_count": 13,
     "metadata": {},
     "output_type": "execute_result"
    }
   ],
   "source": [
    "#group_city_clss 만들기\n",
    "# CARD_SIDO_NM , STD_CLSS_NM으로만 groupby\n",
    "# REG_YYMM는 모두 통합\n",
    "group_city_clss = pd.DataFrame(data.loc[:, ['CARD_SIDO_NM',\n",
    "                          'STD_CLSS_NM',\n",
    "                          'AMT']].groupby(['CARD_SIDO_NM',\n",
    "                                          'STD_CLSS_NM'])['AMT'].sum())\n",
    "group_city_clss = group_city_clss.reset_index() #index를 column에 포함시키기\n",
    "group_city_clss['m1_m4_ratio'] =  0\n",
    "group_city_clss['cov_ratio'] = 0\n",
    "group_city_clss"
   ]
  },
  {
   "cell_type": "markdown",
   "metadata": {},
   "source": [
    "## 2. m1_m4_ratio, cov_ratio 계산하기"
   ]
  },
  {
   "cell_type": "markdown",
   "metadata": {},
   "source": [
    "### 1) m1_m4_ratio, cov_ratio 계산하기"
   ]
  },
  {
   "cell_type": "code",
   "execution_count": 14,
   "metadata": {
    "scrolled": false,
    "tags": []
   },
   "outputs": [
    {
     "name": "stderr",
     "output_type": "stream",
     "text": [
      "100%|██████████████████████████████████████████████████████████████████████████████████| 17/17 [00:03<00:00,  4.82it/s]\n"
     ]
    },
    {
     "data": {
      "text/html": [
       "<div>\n",
       "<style scoped>\n",
       "    .dataframe tbody tr th:only-of-type {\n",
       "        vertical-align: middle;\n",
       "    }\n",
       "\n",
       "    .dataframe tbody tr th {\n",
       "        vertical-align: top;\n",
       "    }\n",
       "\n",
       "    .dataframe thead th {\n",
       "        text-align: right;\n",
       "    }\n",
       "</style>\n",
       "<table border=\"1\" class=\"dataframe\">\n",
       "  <thead>\n",
       "    <tr style=\"text-align: right;\">\n",
       "      <th></th>\n",
       "      <th>CARD_SIDO_NM</th>\n",
       "      <th>STD_CLSS_NM</th>\n",
       "      <th>AMT</th>\n",
       "      <th>m1_m4_ratio</th>\n",
       "      <th>cov_ratio</th>\n",
       "    </tr>\n",
       "  </thead>\n",
       "  <tbody>\n",
       "    <tr>\n",
       "      <td>0</td>\n",
       "      <td>강원</td>\n",
       "      <td>건강보조식품 소매업</td>\n",
       "      <td>1820824382</td>\n",
       "      <td>0.699597</td>\n",
       "      <td>0.718201</td>\n",
       "    </tr>\n",
       "    <tr>\n",
       "      <td>1</td>\n",
       "      <td>강원</td>\n",
       "      <td>골프장 운영업</td>\n",
       "      <td>51290887138</td>\n",
       "      <td>0.948378</td>\n",
       "      <td>3.225588</td>\n",
       "    </tr>\n",
       "    <tr>\n",
       "      <td>2</td>\n",
       "      <td>강원</td>\n",
       "      <td>과실 및 채소 소매업</td>\n",
       "      <td>16675489268</td>\n",
       "      <td>0.918037</td>\n",
       "      <td>0.643121</td>\n",
       "    </tr>\n",
       "    <tr>\n",
       "      <td>3</td>\n",
       "      <td>강원</td>\n",
       "      <td>관광 민예품 및 선물용품 소매업</td>\n",
       "      <td>457212008</td>\n",
       "      <td>0.623313</td>\n",
       "      <td>0.584067</td>\n",
       "    </tr>\n",
       "    <tr>\n",
       "      <td>4</td>\n",
       "      <td>강원</td>\n",
       "      <td>그외 기타 분류안된 오락관련 서비스업</td>\n",
       "      <td>177000</td>\n",
       "      <td>-1.000000</td>\n",
       "      <td>-1.000000</td>\n",
       "    </tr>\n",
       "    <tr>\n",
       "      <td>...</td>\n",
       "      <td>...</td>\n",
       "      <td>...</td>\n",
       "      <td>...</td>\n",
       "      <td>...</td>\n",
       "      <td>...</td>\n",
       "    </tr>\n",
       "    <tr>\n",
       "      <td>645</td>\n",
       "      <td>충북</td>\n",
       "      <td>피자 햄버거 샌드위치 및 유사 음식점업</td>\n",
       "      <td>21294163365</td>\n",
       "      <td>0.909510</td>\n",
       "      <td>1.005939</td>\n",
       "    </tr>\n",
       "    <tr>\n",
       "      <td>646</td>\n",
       "      <td>충북</td>\n",
       "      <td>한식 음식점업</td>\n",
       "      <td>327145423793</td>\n",
       "      <td>0.796462</td>\n",
       "      <td>1.026153</td>\n",
       "    </tr>\n",
       "    <tr>\n",
       "      <td>647</td>\n",
       "      <td>충북</td>\n",
       "      <td>호텔업</td>\n",
       "      <td>530914357</td>\n",
       "      <td>0.381178</td>\n",
       "      <td>1.168718</td>\n",
       "    </tr>\n",
       "    <tr>\n",
       "      <td>648</td>\n",
       "      <td>충북</td>\n",
       "      <td>화장품 및 방향제 소매업</td>\n",
       "      <td>9175488855</td>\n",
       "      <td>0.671731</td>\n",
       "      <td>0.943095</td>\n",
       "    </tr>\n",
       "    <tr>\n",
       "      <td>649</td>\n",
       "      <td>충북</td>\n",
       "      <td>휴양콘도 운영업</td>\n",
       "      <td>2414736980</td>\n",
       "      <td>0.201197</td>\n",
       "      <td>0.513309</td>\n",
       "    </tr>\n",
       "  </tbody>\n",
       "</table>\n",
       "<p>650 rows × 5 columns</p>\n",
       "</div>"
      ],
      "text/plain": [
       "    CARD_SIDO_NM            STD_CLSS_NM           AMT  m1_m4_ratio  cov_ratio\n",
       "0             강원             건강보조식품 소매업    1820824382     0.699597   0.718201\n",
       "1             강원                골프장 운영업   51290887138     0.948378   3.225588\n",
       "2             강원            과실 및 채소 소매업   16675489268     0.918037   0.643121\n",
       "3             강원      관광 민예품 및 선물용품 소매업     457212008     0.623313   0.584067\n",
       "4             강원   그외 기타 분류안된 오락관련 서비스업        177000    -1.000000  -1.000000\n",
       "..           ...                    ...           ...          ...        ...\n",
       "645           충북  피자 햄버거 샌드위치 및 유사 음식점업   21294163365     0.909510   1.005939\n",
       "646           충북                한식 음식점업  327145423793     0.796462   1.026153\n",
       "647           충북                    호텔업     530914357     0.381178   1.168718\n",
       "648           충북          화장품 및 방향제 소매업    9175488855     0.671731   0.943095\n",
       "649           충북               휴양콘도 운영업    2414736980     0.201197   0.513309\n",
       "\n",
       "[650 rows x 5 columns]"
      ]
     },
     "execution_count": 14,
     "metadata": {},
     "output_type": "execute_result"
    }
   ],
   "source": [
    "# 지역, 업종별로 코로나 영향을 조사하는 함수\n",
    "citys = group_city_clss.CARD_SIDO_NM.unique()\n",
    "\n",
    "i = 0 # row의 index\n",
    "for city in tqdm(citys):\n",
    "    clsses = group_city_clss[group_city_clss.CARD_SIDO_NM == city].STD_CLSS_NM.unique()\n",
    "    for clss in clsses:                 \n",
    "        # m1_m4_ratio 구하기-----------------------------------------------------------------------------------\n",
    "        ## 201901, 201904, 202001중 하나라도 없을 경우 m01_m04_ratio 계산이 무의미함\n",
    "        condition = (201901 not in group_city_clss_time.loc[city, clss].index) or \\\n",
    "                        (201904 not in group_city_clss_time.loc[city, clss].index) or \\\n",
    "                            (202001 not in group_city_clss_time.loc[city, clss].index)\n",
    "        if condition: # condition이 True일 때는 -1로 채우기\n",
    "            group_city_clss.iloc[i, 4] =  -1\n",
    "            \n",
    "        else: # 모든 데이터가 다 있을 때, m01_m04_ratio를 계산\n",
    "            m01_m04_ratio = group_city_clss_time.loc[city, clss, 201904].values \\\n",
    "                            / group_city_clss_time.loc[city, clss, 201901].values\n",
    "            group_city_clss.iloc[i, 4] =  m01_m04_ratio\n",
    "        \n",
    "        # cov_ratio 구하기-----------------------------------------------------------------------------------\n",
    "        ## 201902, 201903, 202002, 202003 중 하나라도 없을 경우 cov_ratio 계산이 무의미함\n",
    "        condition = (201902 not in group_city_clss_time.loc[city, clss].index) or \\\n",
    "                        (201903 not in group_city_clss_time.loc[city, clss].index) or \\\n",
    "                            (202002 not in group_city_clss_time.loc[city, clss].index) or \\\n",
    "                                (202003 not in group_city_clss_time.loc[city, clss].index) \n",
    "        if condition:\n",
    "            group_city_clss.iloc[i, 3] =  -1\n",
    "            \n",
    "        else:\n",
    "            ratio_m02 = group_city_clss_time.loc[city, clss, 202002].values \\\n",
    "                            / group_city_clss_time.loc[city, clss, 201902].values\n",
    "            ratio_m03 = group_city_clss_time.loc[city, clss, 202003].values \\\n",
    "                            / group_city_clss_time.loc[city, clss, 201903].values\n",
    "            group_city_clss.iloc[i, 3] =  np.mean([ratio_m02, ratio_m03])\n",
    "        \n",
    "        # i는 1 증가-----------------------------------------------------------------------------------\n",
    "        i = i+1\n",
    "group_city_clss"
   ]
  },
  {
   "cell_type": "markdown",
   "metadata": {},
   "source": [
    "### 2) m1_m4_ratio, cov_ratio의 null 채우기"
   ]
  },
  {
   "cell_type": "code",
   "execution_count": 15,
   "metadata": {},
   "outputs": [
    {
     "name": "stdout",
     "output_type": "stream",
     "text": [
      "cov_ratio가 없는 경우 33 개 /  650 개\n",
      "m1_m4_ratio가 없는 경우 49 개 /  650 개\n"
     ]
    }
   ],
   "source": [
    "print('cov_ratio가 없는 경우',len(group_city_clss[(group_city_clss['cov_ratio'] == -1)]), '개 /  650 개')\n",
    "print('m1_m4_ratio가 없는 경우',len(group_city_clss[(group_city_clss['m1_m4_ratio'] == -1)]), '개 /  650 개')"
   ]
  },
  {
   "cell_type": "markdown",
   "metadata": {},
   "source": [
    "#### i. cov_ratio의 null 값 채우기"
   ]
  },
  {
   "cell_type": "code",
   "execution_count": 16,
   "metadata": {
    "scrolled": false
   },
   "outputs": [
    {
     "data": {
      "text/html": [
       "<div>\n",
       "<style scoped>\n",
       "    .dataframe tbody tr th:only-of-type {\n",
       "        vertical-align: middle;\n",
       "    }\n",
       "\n",
       "    .dataframe tbody tr th {\n",
       "        vertical-align: top;\n",
       "    }\n",
       "\n",
       "    .dataframe thead th {\n",
       "        text-align: right;\n",
       "    }\n",
       "</style>\n",
       "<table border=\"1\" class=\"dataframe\">\n",
       "  <thead>\n",
       "    <tr style=\"text-align: right;\">\n",
       "      <th></th>\n",
       "      <th>CARD_SIDO_NM</th>\n",
       "      <th>STD_CLSS_NM</th>\n",
       "      <th>AMT</th>\n",
       "      <th>m1_m4_ratio</th>\n",
       "      <th>cov_ratio</th>\n",
       "    </tr>\n",
       "  </thead>\n",
       "  <tbody>\n",
       "    <tr>\n",
       "      <td>34</td>\n",
       "      <td>강원</td>\n",
       "      <td>택시 운송업</td>\n",
       "      <td>2642910</td>\n",
       "      <td>-1.000000</td>\n",
       "      <td>0.268560</td>\n",
       "    </tr>\n",
       "    <tr>\n",
       "      <td>73</td>\n",
       "      <td>경기</td>\n",
       "      <td>택시 운송업</td>\n",
       "      <td>2503937856</td>\n",
       "      <td>0.857612</td>\n",
       "      <td>1.156694</td>\n",
       "    </tr>\n",
       "    <tr>\n",
       "      <td>112</td>\n",
       "      <td>경남</td>\n",
       "      <td>택시 운송업</td>\n",
       "      <td>298087108</td>\n",
       "      <td>0.615890</td>\n",
       "      <td>1.030398</td>\n",
       "    </tr>\n",
       "    <tr>\n",
       "      <td>151</td>\n",
       "      <td>경북</td>\n",
       "      <td>택시 운송업</td>\n",
       "      <td>9435880</td>\n",
       "      <td>0.834376</td>\n",
       "      <td>1.015983</td>\n",
       "    </tr>\n",
       "    <tr>\n",
       "      <td>189</td>\n",
       "      <td>광주</td>\n",
       "      <td>택시 운송업</td>\n",
       "      <td>1244100</td>\n",
       "      <td>-1.000000</td>\n",
       "      <td>-1.000000</td>\n",
       "    </tr>\n",
       "    <tr>\n",
       "      <td>226</td>\n",
       "      <td>대구</td>\n",
       "      <td>택시 운송업</td>\n",
       "      <td>91184266476</td>\n",
       "      <td>0.629887</td>\n",
       "      <td>1.036321</td>\n",
       "    </tr>\n",
       "    <tr>\n",
       "      <td>299</td>\n",
       "      <td>부산</td>\n",
       "      <td>택시 운송업</td>\n",
       "      <td>62274858483</td>\n",
       "      <td>0.764054</td>\n",
       "      <td>1.046774</td>\n",
       "    </tr>\n",
       "    <tr>\n",
       "      <td>339</td>\n",
       "      <td>서울</td>\n",
       "      <td>택시 운송업</td>\n",
       "      <td>1575084395358</td>\n",
       "      <td>0.877316</td>\n",
       "      <td>1.111843</td>\n",
       "    </tr>\n",
       "    <tr>\n",
       "      <td>409</td>\n",
       "      <td>울산</td>\n",
       "      <td>택시 운송업</td>\n",
       "      <td>196300</td>\n",
       "      <td>-1.000000</td>\n",
       "      <td>-1.000000</td>\n",
       "    </tr>\n",
       "    <tr>\n",
       "      <td>447</td>\n",
       "      <td>인천</td>\n",
       "      <td>택시 운송업</td>\n",
       "      <td>2035931863</td>\n",
       "      <td>0.906117</td>\n",
       "      <td>1.030394</td>\n",
       "    </tr>\n",
       "    <tr>\n",
       "      <td>486</td>\n",
       "      <td>전남</td>\n",
       "      <td>택시 운송업</td>\n",
       "      <td>30350</td>\n",
       "      <td>-1.000000</td>\n",
       "      <td>-1.000000</td>\n",
       "    </tr>\n",
       "    <tr>\n",
       "      <td>525</td>\n",
       "      <td>전북</td>\n",
       "      <td>택시 운송업</td>\n",
       "      <td>5256000</td>\n",
       "      <td>0.510515</td>\n",
       "      <td>0.483871</td>\n",
       "    </tr>\n",
       "    <tr>\n",
       "      <td>565</td>\n",
       "      <td>제주</td>\n",
       "      <td>택시 운송업</td>\n",
       "      <td>1449300</td>\n",
       "      <td>-1.000000</td>\n",
       "      <td>-1.000000</td>\n",
       "    </tr>\n",
       "    <tr>\n",
       "      <td>605</td>\n",
       "      <td>충남</td>\n",
       "      <td>택시 운송업</td>\n",
       "      <td>1195880</td>\n",
       "      <td>-1.000000</td>\n",
       "      <td>-1.000000</td>\n",
       "    </tr>\n",
       "    <tr>\n",
       "      <td>644</td>\n",
       "      <td>충북</td>\n",
       "      <td>택시 운송업</td>\n",
       "      <td>6614110</td>\n",
       "      <td>16.137667</td>\n",
       "      <td>0.465625</td>\n",
       "    </tr>\n",
       "  </tbody>\n",
       "</table>\n",
       "</div>"
      ],
      "text/plain": [
       "    CARD_SIDO_NM STD_CLSS_NM            AMT  m1_m4_ratio  cov_ratio\n",
       "34            강원      택시 운송업        2642910    -1.000000   0.268560\n",
       "73            경기      택시 운송업     2503937856     0.857612   1.156694\n",
       "112           경남      택시 운송업      298087108     0.615890   1.030398\n",
       "151           경북      택시 운송업        9435880     0.834376   1.015983\n",
       "189           광주      택시 운송업        1244100    -1.000000  -1.000000\n",
       "226           대구      택시 운송업    91184266476     0.629887   1.036321\n",
       "299           부산      택시 운송업    62274858483     0.764054   1.046774\n",
       "339           서울      택시 운송업  1575084395358     0.877316   1.111843\n",
       "409           울산      택시 운송업         196300    -1.000000  -1.000000\n",
       "447           인천      택시 운송업     2035931863     0.906117   1.030394\n",
       "486           전남      택시 운송업          30350    -1.000000  -1.000000\n",
       "525           전북      택시 운송업        5256000     0.510515   0.483871\n",
       "565           제주      택시 운송업        1449300    -1.000000  -1.000000\n",
       "605           충남      택시 운송업        1195880    -1.000000  -1.000000\n",
       "644           충북      택시 운송업        6614110    16.137667   0.465625"
      ]
     },
     "execution_count": 16,
     "metadata": {},
     "output_type": "execute_result"
    }
   ],
   "source": [
    "group_city_clss[(group_city_clss['STD_CLSS_NM'] == '택시 운송업') ]\n",
    "## 택시 운송없의 경우 우선 데이터가 많지 않다.\n",
    "## 또한 지역별로 코로나 변수의 편차가 심하다 -> 어던 지역은 코로나의 영향을 덜 받고, 어떤 지역은 코로나의 영향을 많이 받는다.\n",
    "#  이 문제를 해결할 방법이 떠오르지 않으므로 그냥 동일 업종의 다른 지역 ratio를 평균해서 구함.\n",
    "\n",
    "# 이곳의 null값을 채우는 방법 -> 1안 코로나 변수가 존재하는 지역들의 평균\n",
    "                                # 2안 있는 데이터를 잘 조합하여 생성"
   ]
  },
  {
   "cell_type": "code",
   "execution_count": 17,
   "metadata": {},
   "outputs": [],
   "source": [
    "none_clsses = group_city_clss[group_city_clss['cov_ratio'] == -1].STD_CLSS_NM.unique()\n",
    "\n",
    "for none_clss in none_clsses:\n",
    "    group_city_clss.loc[((group_city_clss.STD_CLSS_NM == none_clss) & (group_city_clss.cov_ratio == -1)),'cov_ratio']\\\n",
    "            = group_city_clss.loc[((group_city_clss.STD_CLSS_NM == none_clss) \\\n",
    "                & (group_city_clss.cov_ratio != -1)),'cov_ratio'].mean()"
   ]
  },
  {
   "cell_type": "code",
   "execution_count": 18,
   "metadata": {},
   "outputs": [
    {
     "data": {
      "text/html": [
       "<div>\n",
       "<style scoped>\n",
       "    .dataframe tbody tr th:only-of-type {\n",
       "        vertical-align: middle;\n",
       "    }\n",
       "\n",
       "    .dataframe tbody tr th {\n",
       "        vertical-align: top;\n",
       "    }\n",
       "\n",
       "    .dataframe thead th {\n",
       "        text-align: right;\n",
       "    }\n",
       "</style>\n",
       "<table border=\"1\" class=\"dataframe\">\n",
       "  <thead>\n",
       "    <tr style=\"text-align: right;\">\n",
       "      <th></th>\n",
       "      <th>CARD_SIDO_NM</th>\n",
       "      <th>STD_CLSS_NM</th>\n",
       "      <th>AMT</th>\n",
       "      <th>m1_m4_ratio</th>\n",
       "      <th>cov_ratio</th>\n",
       "    </tr>\n",
       "  </thead>\n",
       "  <tbody>\n",
       "    <tr>\n",
       "      <td>34</td>\n",
       "      <td>강원</td>\n",
       "      <td>택시 운송업</td>\n",
       "      <td>2642910</td>\n",
       "      <td>-1.000000</td>\n",
       "      <td>0.268560</td>\n",
       "    </tr>\n",
       "    <tr>\n",
       "      <td>73</td>\n",
       "      <td>경기</td>\n",
       "      <td>택시 운송업</td>\n",
       "      <td>2503937856</td>\n",
       "      <td>0.857612</td>\n",
       "      <td>1.156694</td>\n",
       "    </tr>\n",
       "    <tr>\n",
       "      <td>112</td>\n",
       "      <td>경남</td>\n",
       "      <td>택시 운송업</td>\n",
       "      <td>298087108</td>\n",
       "      <td>0.615890</td>\n",
       "      <td>1.030398</td>\n",
       "    </tr>\n",
       "    <tr>\n",
       "      <td>151</td>\n",
       "      <td>경북</td>\n",
       "      <td>택시 운송업</td>\n",
       "      <td>9435880</td>\n",
       "      <td>0.834376</td>\n",
       "      <td>1.015983</td>\n",
       "    </tr>\n",
       "    <tr>\n",
       "      <td>189</td>\n",
       "      <td>광주</td>\n",
       "      <td>택시 운송업</td>\n",
       "      <td>1244100</td>\n",
       "      <td>-1.000000</td>\n",
       "      <td>0.864646</td>\n",
       "    </tr>\n",
       "    <tr>\n",
       "      <td>226</td>\n",
       "      <td>대구</td>\n",
       "      <td>택시 운송업</td>\n",
       "      <td>91184266476</td>\n",
       "      <td>0.629887</td>\n",
       "      <td>1.036321</td>\n",
       "    </tr>\n",
       "    <tr>\n",
       "      <td>299</td>\n",
       "      <td>부산</td>\n",
       "      <td>택시 운송업</td>\n",
       "      <td>62274858483</td>\n",
       "      <td>0.764054</td>\n",
       "      <td>1.046774</td>\n",
       "    </tr>\n",
       "    <tr>\n",
       "      <td>339</td>\n",
       "      <td>서울</td>\n",
       "      <td>택시 운송업</td>\n",
       "      <td>1575084395358</td>\n",
       "      <td>0.877316</td>\n",
       "      <td>1.111843</td>\n",
       "    </tr>\n",
       "    <tr>\n",
       "      <td>409</td>\n",
       "      <td>울산</td>\n",
       "      <td>택시 운송업</td>\n",
       "      <td>196300</td>\n",
       "      <td>-1.000000</td>\n",
       "      <td>0.864646</td>\n",
       "    </tr>\n",
       "    <tr>\n",
       "      <td>447</td>\n",
       "      <td>인천</td>\n",
       "      <td>택시 운송업</td>\n",
       "      <td>2035931863</td>\n",
       "      <td>0.906117</td>\n",
       "      <td>1.030394</td>\n",
       "    </tr>\n",
       "    <tr>\n",
       "      <td>486</td>\n",
       "      <td>전남</td>\n",
       "      <td>택시 운송업</td>\n",
       "      <td>30350</td>\n",
       "      <td>-1.000000</td>\n",
       "      <td>0.864646</td>\n",
       "    </tr>\n",
       "    <tr>\n",
       "      <td>525</td>\n",
       "      <td>전북</td>\n",
       "      <td>택시 운송업</td>\n",
       "      <td>5256000</td>\n",
       "      <td>0.510515</td>\n",
       "      <td>0.483871</td>\n",
       "    </tr>\n",
       "    <tr>\n",
       "      <td>565</td>\n",
       "      <td>제주</td>\n",
       "      <td>택시 운송업</td>\n",
       "      <td>1449300</td>\n",
       "      <td>-1.000000</td>\n",
       "      <td>0.864646</td>\n",
       "    </tr>\n",
       "    <tr>\n",
       "      <td>605</td>\n",
       "      <td>충남</td>\n",
       "      <td>택시 운송업</td>\n",
       "      <td>1195880</td>\n",
       "      <td>-1.000000</td>\n",
       "      <td>0.864646</td>\n",
       "    </tr>\n",
       "    <tr>\n",
       "      <td>644</td>\n",
       "      <td>충북</td>\n",
       "      <td>택시 운송업</td>\n",
       "      <td>6614110</td>\n",
       "      <td>16.137667</td>\n",
       "      <td>0.465625</td>\n",
       "    </tr>\n",
       "  </tbody>\n",
       "</table>\n",
       "</div>"
      ],
      "text/plain": [
       "    CARD_SIDO_NM STD_CLSS_NM            AMT  m1_m4_ratio  cov_ratio\n",
       "34            강원      택시 운송업        2642910    -1.000000   0.268560\n",
       "73            경기      택시 운송업     2503937856     0.857612   1.156694\n",
       "112           경남      택시 운송업      298087108     0.615890   1.030398\n",
       "151           경북      택시 운송업        9435880     0.834376   1.015983\n",
       "189           광주      택시 운송업        1244100    -1.000000   0.864646\n",
       "226           대구      택시 운송업    91184266476     0.629887   1.036321\n",
       "299           부산      택시 운송업    62274858483     0.764054   1.046774\n",
       "339           서울      택시 운송업  1575084395358     0.877316   1.111843\n",
       "409           울산      택시 운송업         196300    -1.000000   0.864646\n",
       "447           인천      택시 운송업     2035931863     0.906117   1.030394\n",
       "486           전남      택시 운송업          30350    -1.000000   0.864646\n",
       "525           전북      택시 운송업        5256000     0.510515   0.483871\n",
       "565           제주      택시 운송업        1449300    -1.000000   0.864646\n",
       "605           충남      택시 운송업        1195880    -1.000000   0.864646\n",
       "644           충북      택시 운송업        6614110    16.137667   0.465625"
      ]
     },
     "execution_count": 18,
     "metadata": {},
     "output_type": "execute_result"
    }
   ],
   "source": [
    "group_city_clss[group_city_clss['STD_CLSS_NM'] == '택시 운송업']"
   ]
  },
  {
   "cell_type": "code",
   "execution_count": 19,
   "metadata": {
    "tags": []
   },
   "outputs": [
    {
     "name": "stdout",
     "output_type": "stream",
     "text": [
      "cov_ratio가 없는 경우 0 개 /  650 개\n"
     ]
    }
   ],
   "source": [
    "print('cov_ratio가 없는 경우',len(group_city_clss[(group_city_clss['cov_ratio'] == -1)]), '개 /  650 개')\n",
    "## 모든 Null 값을 채웠다."
   ]
  },
  {
   "cell_type": "markdown",
   "metadata": {},
   "source": [
    "#### ii. m1_m4_ratio의 null 값 채우기"
   ]
  },
  {
   "cell_type": "code",
   "execution_count": 20,
   "metadata": {},
   "outputs": [],
   "source": [
    "# 같은 방식으로 m1_m4_ratio의 Null 데이터로 채웠다.\n",
    "# 하지만 2020년 1월 데이터가 없을 경우 2020년 4월 데이터를 구 할 수 없다. 이 문제를 해결할 방법을 찾아야 한다.\n",
    "none_clsses = group_city_clss[group_city_clss['m1_m4_ratio'] == -1].STD_CLSS_NM.unique()\n",
    "for none_clss in none_clsses:\n",
    "    group_city_clss.loc[((group_city_clss.STD_CLSS_NM == none_clss) & (group_city_clss.m1_m4_ratio == -1)),'m1_m4_ratio']\\\n",
    "            = group_city_clss.loc[((group_city_clss.STD_CLSS_NM == none_clss) & (group_city_clss.m1_m4_ratio != -1)),'m1_m4_ratio'].mean()"
   ]
  },
  {
   "cell_type": "code",
   "execution_count": 21,
   "metadata": {
    "tags": []
   },
   "outputs": [
    {
     "name": "stdout",
     "output_type": "stream",
     "text": [
      "m1_m4_ratio가 없는 경우 0 개 /  650 개\n"
     ]
    }
   ],
   "source": [
    "print('m1_m4_ratio가 없는 경우',len(group_city_clss[(group_city_clss['m1_m4_ratio'] == -1)]), '개 /  650 개')"
   ]
  },
  {
   "cell_type": "markdown",
   "metadata": {},
   "source": [
    "## 3.  non_cov 20년 4월 예측하기"
   ]
  },
  {
   "cell_type": "code",
   "execution_count": 22,
   "metadata": {
    "tags": []
   },
   "outputs": [
    {
     "name": "stderr",
     "output_type": "stream",
     "text": [
      "100%|███████████████████████████████████████████████████████████████████████████████| 650/650 [00:00<00:00, 704.67it/s]\n"
     ]
    },
    {
     "data": {
      "text/html": [
       "<div>\n",
       "<style scoped>\n",
       "    .dataframe tbody tr th:only-of-type {\n",
       "        vertical-align: middle;\n",
       "    }\n",
       "\n",
       "    .dataframe tbody tr th {\n",
       "        vertical-align: top;\n",
       "    }\n",
       "\n",
       "    .dataframe thead th {\n",
       "        text-align: right;\n",
       "    }\n",
       "</style>\n",
       "<table border=\"1\" class=\"dataframe\">\n",
       "  <thead>\n",
       "    <tr style=\"text-align: right;\">\n",
       "      <th></th>\n",
       "      <th>CARD_SIDO_NM</th>\n",
       "      <th>STD_CLSS_NM</th>\n",
       "      <th>AMT</th>\n",
       "      <th>m1_m4_ratio</th>\n",
       "      <th>cov_ratio</th>\n",
       "      <th>COV_M04</th>\n",
       "    </tr>\n",
       "  </thead>\n",
       "  <tbody>\n",
       "    <tr>\n",
       "      <td>0</td>\n",
       "      <td>강원</td>\n",
       "      <td>건강보조식품 소매업</td>\n",
       "      <td>1820824382</td>\n",
       "      <td>0.699597</td>\n",
       "      <td>0.718201</td>\n",
       "      <td>9.295784e+07</td>\n",
       "    </tr>\n",
       "    <tr>\n",
       "      <td>1</td>\n",
       "      <td>강원</td>\n",
       "      <td>골프장 운영업</td>\n",
       "      <td>51290887138</td>\n",
       "      <td>0.948378</td>\n",
       "      <td>3.225588</td>\n",
       "      <td>3.796627e+09</td>\n",
       "    </tr>\n",
       "    <tr>\n",
       "      <td>2</td>\n",
       "      <td>강원</td>\n",
       "      <td>과실 및 채소 소매업</td>\n",
       "      <td>16675489268</td>\n",
       "      <td>0.918037</td>\n",
       "      <td>0.643121</td>\n",
       "      <td>9.308133e+08</td>\n",
       "    </tr>\n",
       "    <tr>\n",
       "      <td>3</td>\n",
       "      <td>강원</td>\n",
       "      <td>관광 민예품 및 선물용품 소매업</td>\n",
       "      <td>457212008</td>\n",
       "      <td>0.623313</td>\n",
       "      <td>0.584067</td>\n",
       "      <td>1.097723e+07</td>\n",
       "    </tr>\n",
       "    <tr>\n",
       "      <td>4</td>\n",
       "      <td>강원</td>\n",
       "      <td>그외 기타 분류안된 오락관련 서비스업</td>\n",
       "      <td>177000</td>\n",
       "      <td>0.538343</td>\n",
       "      <td>2.242293</td>\n",
       "      <td>1.770000e+05</td>\n",
       "    </tr>\n",
       "    <tr>\n",
       "      <td>...</td>\n",
       "      <td>...</td>\n",
       "      <td>...</td>\n",
       "      <td>...</td>\n",
       "      <td>...</td>\n",
       "      <td>...</td>\n",
       "      <td>...</td>\n",
       "    </tr>\n",
       "    <tr>\n",
       "      <td>645</td>\n",
       "      <td>충북</td>\n",
       "      <td>피자 햄버거 샌드위치 및 유사 음식점업</td>\n",
       "      <td>21294163365</td>\n",
       "      <td>0.909510</td>\n",
       "      <td>1.005939</td>\n",
       "      <td>1.232293e+09</td>\n",
       "    </tr>\n",
       "    <tr>\n",
       "      <td>646</td>\n",
       "      <td>충북</td>\n",
       "      <td>한식 음식점업</td>\n",
       "      <td>327145423793</td>\n",
       "      <td>0.796462</td>\n",
       "      <td>1.026153</td>\n",
       "      <td>1.759899e+10</td>\n",
       "    </tr>\n",
       "    <tr>\n",
       "      <td>647</td>\n",
       "      <td>충북</td>\n",
       "      <td>호텔업</td>\n",
       "      <td>530914357</td>\n",
       "      <td>0.381178</td>\n",
       "      <td>1.168718</td>\n",
       "      <td>1.841203e+07</td>\n",
       "    </tr>\n",
       "    <tr>\n",
       "      <td>648</td>\n",
       "      <td>충북</td>\n",
       "      <td>화장품 및 방향제 소매업</td>\n",
       "      <td>9175488855</td>\n",
       "      <td>0.671731</td>\n",
       "      <td>0.943095</td>\n",
       "      <td>3.578739e+08</td>\n",
       "    </tr>\n",
       "    <tr>\n",
       "      <td>649</td>\n",
       "      <td>충북</td>\n",
       "      <td>휴양콘도 운영업</td>\n",
       "      <td>2414736980</td>\n",
       "      <td>0.201197</td>\n",
       "      <td>0.513309</td>\n",
       "      <td>2.293494e+07</td>\n",
       "    </tr>\n",
       "  </tbody>\n",
       "</table>\n",
       "<p>650 rows × 6 columns</p>\n",
       "</div>"
      ],
      "text/plain": [
       "    CARD_SIDO_NM            STD_CLSS_NM           AMT  m1_m4_ratio  cov_ratio  \\\n",
       "0             강원             건강보조식품 소매업    1820824382     0.699597   0.718201   \n",
       "1             강원                골프장 운영업   51290887138     0.948378   3.225588   \n",
       "2             강원            과실 및 채소 소매업   16675489268     0.918037   0.643121   \n",
       "3             강원      관광 민예품 및 선물용품 소매업     457212008     0.623313   0.584067   \n",
       "4             강원   그외 기타 분류안된 오락관련 서비스업        177000     0.538343   2.242293   \n",
       "..           ...                    ...           ...          ...        ...   \n",
       "645           충북  피자 햄버거 샌드위치 및 유사 음식점업   21294163365     0.909510   1.005939   \n",
       "646           충북                한식 음식점업  327145423793     0.796462   1.026153   \n",
       "647           충북                    호텔업     530914357     0.381178   1.168718   \n",
       "648           충북          화장품 및 방향제 소매업    9175488855     0.671731   0.943095   \n",
       "649           충북               휴양콘도 운영업    2414736980     0.201197   0.513309   \n",
       "\n",
       "          COV_M04  \n",
       "0    9.295784e+07  \n",
       "1    3.796627e+09  \n",
       "2    9.308133e+08  \n",
       "3    1.097723e+07  \n",
       "4    1.770000e+05  \n",
       "..            ...  \n",
       "645  1.232293e+09  \n",
       "646  1.759899e+10  \n",
       "647  1.841203e+07  \n",
       "648  3.578739e+08  \n",
       "649  2.293494e+07  \n",
       "\n",
       "[650 rows x 6 columns]"
      ]
     },
     "execution_count": 22,
     "metadata": {},
     "output_type": "execute_result"
    }
   ],
   "source": [
    "group_city_clss['COV_M04'] = 0\n",
    "\n",
    "for i in tqdm(range(len(group_city_clss))):\n",
    "        city = group_city_clss.iloc[i,0]\n",
    "        clss = group_city_clss.iloc[i,1]\n",
    "\n",
    "        no_202001 = (202001 not in group_city_clss_time.loc[city, clss].index)\n",
    "        if no_202001:\n",
    "            no_201904 = (201904 not in group_city_clss_time.loc[city, clss].index)\n",
    "            if no_201904:\n",
    "                group_city_clss.iloc[i,-1] = group_city_clss_time.loc[city, clss].values.mean()\n",
    "            else:\n",
    "                group_city_clss.iloc[i,-1] = group_city_clss_time.loc[city, clss, 201904].values\n",
    "\n",
    "        else:\n",
    "            group_city_clss.iloc[i,-1] = group_city_clss_time.loc[city, clss, 202001].values\\\n",
    "                                      * group_city_clss.iloc[i,3]\\\n",
    "                                      * group_city_clss.iloc[i,4]\n",
    "\n",
    "group_city_clss"
   ]
  },
  {
   "cell_type": "markdown",
   "metadata": {},
   "source": [
    "## 4. COV_M04를 submission에 채워넣기"
   ]
  },
  {
   "cell_type": "code",
   "execution_count": 24,
   "metadata": {},
   "outputs": [
    {
     "data": {
      "text/html": [
       "<div>\n",
       "<style scoped>\n",
       "    .dataframe tbody tr th:only-of-type {\n",
       "        vertical-align: middle;\n",
       "    }\n",
       "\n",
       "    .dataframe tbody tr th {\n",
       "        vertical-align: top;\n",
       "    }\n",
       "\n",
       "    .dataframe thead th {\n",
       "        text-align: right;\n",
       "    }\n",
       "</style>\n",
       "<table border=\"1\" class=\"dataframe\">\n",
       "  <thead>\n",
       "    <tr style=\"text-align: right;\">\n",
       "      <th></th>\n",
       "      <th>REG_YYMM</th>\n",
       "      <th>CARD_SIDO_NM</th>\n",
       "      <th>STD_CLSS_NM</th>\n",
       "      <th>AMT</th>\n",
       "      <th>COV_M04</th>\n",
       "    </tr>\n",
       "  </thead>\n",
       "  <tbody>\n",
       "    <tr>\n",
       "      <td>0</td>\n",
       "      <td>202004</td>\n",
       "      <td>강원</td>\n",
       "      <td>건강보조식품 소매업</td>\n",
       "      <td>0</td>\n",
       "      <td>9.295784e+07</td>\n",
       "    </tr>\n",
       "    <tr>\n",
       "      <td>1</td>\n",
       "      <td>202004</td>\n",
       "      <td>강원</td>\n",
       "      <td>골프장 운영업</td>\n",
       "      <td>0</td>\n",
       "      <td>3.796627e+09</td>\n",
       "    </tr>\n",
       "    <tr>\n",
       "      <td>2</td>\n",
       "      <td>202004</td>\n",
       "      <td>강원</td>\n",
       "      <td>과실 및 채소 소매업</td>\n",
       "      <td>0</td>\n",
       "      <td>9.308133e+08</td>\n",
       "    </tr>\n",
       "    <tr>\n",
       "      <td>3</td>\n",
       "      <td>202004</td>\n",
       "      <td>강원</td>\n",
       "      <td>관광 민예품 및 선물용품 소매업</td>\n",
       "      <td>0</td>\n",
       "      <td>1.097723e+07</td>\n",
       "    </tr>\n",
       "    <tr>\n",
       "      <td>4</td>\n",
       "      <td>202004</td>\n",
       "      <td>강원</td>\n",
       "      <td>그외 기타 분류안된 오락관련 서비스업</td>\n",
       "      <td>0</td>\n",
       "      <td>1.770000e+05</td>\n",
       "    </tr>\n",
       "    <tr>\n",
       "      <td>...</td>\n",
       "      <td>...</td>\n",
       "      <td>...</td>\n",
       "      <td>...</td>\n",
       "      <td>...</td>\n",
       "      <td>...</td>\n",
       "    </tr>\n",
       "    <tr>\n",
       "      <td>1389</td>\n",
       "      <td>202007</td>\n",
       "      <td>충북</td>\n",
       "      <td>피자 햄버거 샌드위치 및 유사 음식점업</td>\n",
       "      <td>0</td>\n",
       "      <td>1.232293e+09</td>\n",
       "    </tr>\n",
       "    <tr>\n",
       "      <td>1390</td>\n",
       "      <td>202007</td>\n",
       "      <td>충북</td>\n",
       "      <td>한식 음식점업</td>\n",
       "      <td>0</td>\n",
       "      <td>1.759899e+10</td>\n",
       "    </tr>\n",
       "    <tr>\n",
       "      <td>1391</td>\n",
       "      <td>202007</td>\n",
       "      <td>충북</td>\n",
       "      <td>호텔업</td>\n",
       "      <td>0</td>\n",
       "      <td>1.841203e+07</td>\n",
       "    </tr>\n",
       "    <tr>\n",
       "      <td>1392</td>\n",
       "      <td>202007</td>\n",
       "      <td>충북</td>\n",
       "      <td>화장품 및 방향제 소매업</td>\n",
       "      <td>0</td>\n",
       "      <td>3.578739e+08</td>\n",
       "    </tr>\n",
       "    <tr>\n",
       "      <td>1393</td>\n",
       "      <td>202007</td>\n",
       "      <td>충북</td>\n",
       "      <td>휴양콘도 운영업</td>\n",
       "      <td>0</td>\n",
       "      <td>2.293494e+07</td>\n",
       "    </tr>\n",
       "  </tbody>\n",
       "</table>\n",
       "<p>1394 rows × 5 columns</p>\n",
       "</div>"
      ],
      "text/plain": [
       "      REG_YYMM CARD_SIDO_NM            STD_CLSS_NM  AMT       COV_M04\n",
       "0       202004           강원             건강보조식품 소매업    0  9.295784e+07\n",
       "1       202004           강원                골프장 운영업    0  3.796627e+09\n",
       "2       202004           강원            과실 및 채소 소매업    0  9.308133e+08\n",
       "3       202004           강원      관광 민예품 및 선물용품 소매업    0  1.097723e+07\n",
       "4       202004           강원   그외 기타 분류안된 오락관련 서비스업    0  1.770000e+05\n",
       "...        ...          ...                    ...  ...           ...\n",
       "1389    202007           충북  피자 햄버거 샌드위치 및 유사 음식점업    0  1.232293e+09\n",
       "1390    202007           충북                한식 음식점업    0  1.759899e+10\n",
       "1391    202007           충북                    호텔업    0  1.841203e+07\n",
       "1392    202007           충북          화장품 및 방향제 소매업    0  3.578739e+08\n",
       "1393    202007           충북               휴양콘도 운영업    0  2.293494e+07\n",
       "\n",
       "[1394 rows x 5 columns]"
      ]
     },
     "execution_count": 24,
     "metadata": {},
     "output_type": "execute_result"
    }
   ],
   "source": [
    "submission_layout = pd.read_csv('C:/Users/user/Desktop/DACON/jeju_credit_card/submission.csv', index_col=0)\n",
    "submission_layout = submission_layout.merge(group_city_clss.loc[:,['CARD_SIDO_NM', 'STD_CLSS_NM', 'COV_M04']],\n",
    "                              left_on=['CARD_SIDO_NM', 'STD_CLSS_NM'],\n",
    "                              right_on=['CARD_SIDO_NM', 'STD_CLSS_NM'],\n",
    "                              how='left')\n",
    "submission_layout = submission_layout.fillna(0)\n",
    "\n",
    "submission_layout"
   ]
  },
  {
   "cell_type": "code",
   "execution_count": 26,
   "metadata": {},
   "outputs": [
    {
     "data": {
      "text/html": [
       "<div>\n",
       "<style scoped>\n",
       "    .dataframe tbody tr th:only-of-type {\n",
       "        vertical-align: middle;\n",
       "    }\n",
       "\n",
       "    .dataframe tbody tr th {\n",
       "        vertical-align: top;\n",
       "    }\n",
       "\n",
       "    .dataframe thead th {\n",
       "        text-align: right;\n",
       "    }\n",
       "</style>\n",
       "<table border=\"1\" class=\"dataframe\">\n",
       "  <thead>\n",
       "    <tr style=\"text-align: right;\">\n",
       "      <th></th>\n",
       "      <th>REG_YYMM</th>\n",
       "      <th>CARD_SIDO_NM</th>\n",
       "      <th>STD_CLSS_NM</th>\n",
       "      <th>AMT</th>\n",
       "    </tr>\n",
       "    <tr>\n",
       "      <th>id</th>\n",
       "      <th></th>\n",
       "      <th></th>\n",
       "      <th></th>\n",
       "      <th></th>\n",
       "    </tr>\n",
       "  </thead>\n",
       "  <tbody>\n",
       "    <tr>\n",
       "      <td>0</td>\n",
       "      <td>202004</td>\n",
       "      <td>강원</td>\n",
       "      <td>건강보조식품 소매업</td>\n",
       "      <td>9.295784e+07</td>\n",
       "    </tr>\n",
       "    <tr>\n",
       "      <td>1</td>\n",
       "      <td>202004</td>\n",
       "      <td>강원</td>\n",
       "      <td>골프장 운영업</td>\n",
       "      <td>3.796627e+09</td>\n",
       "    </tr>\n",
       "    <tr>\n",
       "      <td>2</td>\n",
       "      <td>202004</td>\n",
       "      <td>강원</td>\n",
       "      <td>과실 및 채소 소매업</td>\n",
       "      <td>9.308133e+08</td>\n",
       "    </tr>\n",
       "    <tr>\n",
       "      <td>3</td>\n",
       "      <td>202004</td>\n",
       "      <td>강원</td>\n",
       "      <td>관광 민예품 및 선물용품 소매업</td>\n",
       "      <td>1.097723e+07</td>\n",
       "    </tr>\n",
       "    <tr>\n",
       "      <td>4</td>\n",
       "      <td>202004</td>\n",
       "      <td>강원</td>\n",
       "      <td>그외 기타 분류안된 오락관련 서비스업</td>\n",
       "      <td>1.770000e+05</td>\n",
       "    </tr>\n",
       "  </tbody>\n",
       "</table>\n",
       "</div>"
      ],
      "text/plain": [
       "    REG_YYMM CARD_SIDO_NM           STD_CLSS_NM           AMT\n",
       "id                                                           \n",
       "0     202004           강원            건강보조식품 소매업  9.295784e+07\n",
       "1     202004           강원               골프장 운영업  3.796627e+09\n",
       "2     202004           강원           과실 및 채소 소매업  9.308133e+08\n",
       "3     202004           강원     관광 민예품 및 선물용품 소매업  1.097723e+07\n",
       "4     202004           강원  그외 기타 분류안된 오락관련 서비스업  1.770000e+05"
      ]
     },
     "execution_count": 26,
     "metadata": {},
     "output_type": "execute_result"
    }
   ],
   "source": [
    "submission_layout = pd.read_csv('C:/Users/user/Desktop/DACON/jeju_credit_card/submission.csv', index_col=0)\n",
    "submission_layout = submission_layout.loc[submission_layout['REG_YYMM']==202004,:]\n",
    "submission_layout = submission_layout.merge(group_city_clss.loc[:,['CARD_SIDO_NM', 'STD_CLSS_NM', 'COV_M04']],\n",
    "                              left_on=['CARD_SIDO_NM', 'STD_CLSS_NM'],\n",
    "                              right_on=['CARD_SIDO_NM', 'STD_CLSS_NM'],\n",
    "                              how='left')\n",
    "submission_layout = submission_layout.fillna(0)\n",
    "\n",
    "\n",
    "AMT = list(submission_layout['COV_M04'])*2\n",
    "del submission_layout\n",
    "gc.collect()\n",
    "\n",
    "submission = pd.read_csv('C:/Users/user/Desktop/DACON/jeju_credit_card/submission.csv', index_col=0)\n",
    "submission.AMT = AMT\n",
    "submission.to_csv('C:/Users/user/Desktop/DACON/jeju_credit_card/0720_submission.csv', encoding='utf-8-sig')\n",
    "submission.head()"
   ]
  },
  {
   "cell_type": "code",
   "execution_count": null,
   "metadata": {},
   "outputs": [],
   "source": []
  }
 ],
 "metadata": {
  "kernelspec": {
   "display_name": "Python 3",
   "language": "python",
   "name": "python3"
  },
  "language_info": {
   "codemirror_mode": {
    "name": "ipython",
    "version": 3
   },
   "file_extension": ".py",
   "mimetype": "text/x-python",
   "name": "python",
   "nbconvert_exporter": "python",
   "pygments_lexer": "ipython3",
   "version": "3.7.4"
  }
 },
 "nbformat": 4,
 "nbformat_minor": 2
}
